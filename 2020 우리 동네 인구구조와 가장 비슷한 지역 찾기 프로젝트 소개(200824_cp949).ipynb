{
 "cells": [
  {
   "cell_type": "markdown",
   "metadata": {
    "slideshow": {
     "slide_type": "slide"
    }
   },
   "source": [
    "## #0. 어떤 과정을 거치면 우리 동네 인구구조와 가장 비슷한 지역을 찾을 수 있을까?\n",
    "### 1) 계획대로 한 번에 완성되는 경우는 아주 아주 드물다(없다고 보면 된다)\n",
    "### 2) 일단 가장 기본적인 부분(minimum viable product)부터 작게 만들어보고 점점 확대시켜나가는 것이 일반적\n",
    "### 3) trial & error를 통해 배우며 성장하는 것이 핵심"
   ]
  },
  {
   "cell_type": "markdown",
   "metadata": {
    "slideshow": {
     "slide_type": "slide"
    }
   },
   "source": [
    "## #1. '신도림' 이라는 이름이 포함된 지역의 인구 구조 그래프 그리기"
   ]
  },
  {
   "cell_type": "code",
   "execution_count": null,
   "metadata": {
    "slideshow": {
     "slide_type": "slide"
    }
   },
   "outputs": [],
   "source": [
    "import csv\n",
    "f = open('age2007.csv', encoding = 'cp949')\n",
    "\n",
    "data = csv.reader(f)\n",
    "result = []\n",
    "for row in data :\n",
    "    if '신도림' in row[0] :\n",
    "        for i in range(3,len(row)) : \n",
    "            result.append(int(row[i]))\n",
    "            \n",
    "import matplotlib.pyplot as plt\n",
    "plt.plot(result)\n",
    "plt.show()"
   ]
  },
  {
   "cell_type": "markdown",
   "metadata": {},
   "source": [
    "## #2. 다른 지역과의 비교를 위해 비율로 표현하기"
   ]
  },
  {
   "cell_type": "code",
   "execution_count": null,
   "metadata": {},
   "outputs": [],
   "source": [
    "import csv\n",
    "f = open('age2007.csv', encoding = 'cp949')\n",
    "\n",
    "data = csv.reader(f)\n",
    "result = []\n",
    "for row in data :\n",
    "    if '신도림' in row[0] :\n",
    "        for i in range(3,len(row)) : \n",
    "            result.append(int(row[i])/int(row[2]))\n",
    "            \n",
    "import matplotlib.pyplot as plt\n",
    "plt.plot(result)\n",
    "plt.show()"
   ]
  },
  {
   "cell_type": "markdown",
   "metadata": {},
   "source": [
    "## #3. 데이터의 재사용을 위해 list 형태로 만들기(feat. next(data))"
   ]
  },
  {
   "cell_type": "code",
   "execution_count": null,
   "metadata": {},
   "outputs": [],
   "source": [
    "import csv\n",
    "f = open('age2007.csv', encoding = 'cp949')\n",
    "\n",
    "data = csv.reader(f)\n",
    "next(data)\n",
    "next(data)\n",
    "data = list(data)"
   ]
  },
  {
   "cell_type": "markdown",
   "metadata": {},
   "source": [
    "## #4. $$s = \\sum 기준 지역의 해당 연령값 - 각 지역의 해당 연령값$$"
   ]
  },
  {
   "cell_type": "code",
   "execution_count": null,
   "metadata": {},
   "outputs": [],
   "source": [
    "import csv\n",
    "f = open('age2007.csv', encoding = 'cp949')\n",
    "\n",
    "data = csv.reader(f)\n",
    "next(data)\n",
    "next(data)\n",
    "data = list(data)\n",
    "pivot = []\n",
    "for row in data :\n",
    "    if '신도림' in row[0] :\n",
    "        for i in range(3,len(row)) : \n",
    "            pivot.append(int(row[i])/int(row[2]))\n",
    "mn = 10000000\n",
    "\n",
    "for row in data :\n",
    "    s = 0\n",
    "    for i in range(3, len(row)) :\n",
    "        tmp = int(row[i]) - pivot[i-3]\n",
    "        s = s + tmp\n",
    "    if s < mn :\n",
    "        result = []\n",
    "        for i in range(3, len(row)) :\n",
    "            result.append(int(row[i])/int(row[2]))\n",
    "            \n",
    "            \n",
    "import matplotlib.pyplot as plt\n",
    "plt.plot(pivot)\n",
    "plt.plot(result)\n",
    "plt.show()"
   ]
  },
  {
   "cell_type": "markdown",
   "metadata": {},
   "source": [
    "## #5. $$s = \\sum (기준 지역의 해당 연령값 - 각 지역의 해당 연령값) ^2 $$"
   ]
  },
  {
   "cell_type": "code",
   "execution_count": null,
   "metadata": {},
   "outputs": [],
   "source": [
    "import csv\n",
    "f = open('age2007.csv', encoding = 'cp949')\n",
    "\n",
    "data = csv.reader(f)\n",
    "next(data)\n",
    "next(data)\n",
    "data = list(data)\n",
    "pivot = []\n",
    "for row in data :\n",
    "    if '신도림' in row[0] :\n",
    "        for i in range(3,len(row)) : \n",
    "            pivot.append(int(row[i])/int(row[2]))\n",
    "mn = 1\n",
    "\n",
    "for row in data :\n",
    "    s = 0\n",
    "    for i in range(3, len(row)) :\n",
    "        row[i] = int(row[i])/int(row[2])\n",
    "        tmp = (row[i] - pivot[i-3]) ** 2\n",
    "        s = s + tmp\n",
    "    if s < mn :\n",
    "        result = []\n",
    "        for i in range(3, len(row)) :\n",
    "            result.append(row[i])\n",
    "        mn = s\n",
    "            \n",
    "import matplotlib.pyplot as plt\n",
    "plt.plot(pivot)\n",
    "plt.plot(result)\n",
    "plt.show()"
   ]
  },
  {
   "cell_type": "markdown",
   "metadata": {},
   "source": [
    "## #6. '신도림동'을 제외한 결과 출력하기"
   ]
  },
  {
   "cell_type": "code",
   "execution_count": null,
   "metadata": {},
   "outputs": [],
   "source": [
    "import csv\n",
    "f = open('age2007.csv', encoding = 'cp949')\n",
    "\n",
    "data = csv.reader(f)\n",
    "next(data)\n",
    "next(data)\n",
    "data = list(data)\n",
    "pivot = []\n",
    "\n",
    "for row in data :\n",
    "    if '신도림' in row[0] :\n",
    "        for i in range(3,len(row)) : \n",
    "            pivot.append(int(row[i])/int(row[2]))\n",
    "mn = 1\n",
    "\n",
    "for row in data :\n",
    "    s = 0\n",
    "    for i in range(3, len(row)) :\n",
    "        row[i] = int(row[i])/int(row[2])\n",
    "        tmp = (row[i] - pivot[i-3]) ** 2\n",
    "        s = s + tmp\n",
    "    if s < mn and ('신도림동' not in row[0]) :\n",
    "        result = []\n",
    "        for i in range(3, len(row)) :\n",
    "            result.append(row[i])\n",
    "        mn = s\n",
    "        print(s)\n",
    "            \n",
    "            \n",
    "import matplotlib.pyplot as plt\n",
    "plt.plot(pivot)\n",
    "plt.plot(result)\n",
    "plt.show()"
   ]
  },
  {
   "cell_type": "markdown",
   "metadata": {},
   "source": [
    "## #7. 궁금한 지역의 이름 입력하기"
   ]
  },
  {
   "cell_type": "code",
   "execution_count": null,
   "metadata": {},
   "outputs": [],
   "source": [
    "import csv\n",
    "f = open('age2007.csv', encoding = 'cp949')\n",
    "\n",
    "data = csv.reader(f)\n",
    "next(data)\n",
    "next(data)\n",
    "data = list(data)\n",
    "pivot = []\n",
    "\n",
    "name = input('궁금한 지역 이름을 입력해주세요 : ')\n",
    "\n",
    "for row in data :\n",
    "    if name in row[0] :\n",
    "        for i in range(3,len(row)) : \n",
    "            pivot.append(int(row[i])/int(row[2]))\n",
    "mn = 1\n",
    "\n",
    "for row in data :\n",
    "    s = 0\n",
    "    for i in range(3, len(row)) :\n",
    "        row[i] = int(row[i])/int(row[2])\n",
    "        tmp = (row[i] - pivot[i-3]) ** 2\n",
    "        s = s + tmp\n",
    "    if s < mn and (name not in row[0]) :\n",
    "        result = []\n",
    "        for i in range(3, len(row)) :\n",
    "            result.append(row[i])\n",
    "        mn = s            \n",
    "            \n",
    "import matplotlib.pyplot as plt\n",
    "plt.plot(pivot)\n",
    "plt.plot(result)\n",
    "plt.show()"
   ]
  },
  {
   "cell_type": "markdown",
   "metadata": {},
   "source": [
    "## #8. 범례 추가하기"
   ]
  },
  {
   "cell_type": "code",
   "execution_count": null,
   "metadata": {},
   "outputs": [],
   "source": [
    "import csv\n",
    "f = open('age2007.csv', encoding = 'cp949')\n",
    "\n",
    "data = csv.reader(f)\n",
    "next(data)\n",
    "next(data)\n",
    "data = list(data)\n",
    "pivot = []\n",
    "\n",
    "name = input('궁금한 지역 이름을 입력해주세요 : ')\n",
    "\n",
    "for row in data :\n",
    "    if name in row[0] :\n",
    "        for i in range(3,len(row)) : \n",
    "            pivot.append(int(row[i])/int(row[2]))\n",
    "mn = 1\n",
    "\n",
    "for row in data :\n",
    "    s = 0\n",
    "    for i in range(3, len(row)) :\n",
    "        row[i] = int(row[i])/int(row[2])\n",
    "        tmp = (row[i] - pivot[i-3]) ** 2\n",
    "        s = s + tmp\n",
    "    if s < mn and (name not in row[0]) :\n",
    "        result = []\n",
    "        for i in range(3, len(row)) :\n",
    "            result.append(row[i])\n",
    "        mn = s            \n",
    "        result_name = row[0]\n",
    "            \n",
    "import matplotlib.pyplot as plt\n",
    "plt.plot(pivot, label = name)\n",
    "plt.plot(result, label = result_name)\n",
    "plt.legend()\n",
    "plt.show()"
   ]
  },
  {
   "cell_type": "markdown",
   "metadata": {},
   "source": [
    "## #9. 한글 폰트 추가하기"
   ]
  },
  {
   "cell_type": "code",
   "execution_count": null,
   "metadata": {},
   "outputs": [],
   "source": [
    "import csv\n",
    "f = open('age2007.csv', encoding = 'cp949')\n",
    "\n",
    "data = csv.reader(f)\n",
    "next(data)\n",
    "next(data)\n",
    "data = list(data)\n",
    "pivot = []\n",
    "\n",
    "name = input('궁금한 지역 이름을 입력해주세요 : ')\n",
    "\n",
    "for row in data :\n",
    "    if name in row[0] :\n",
    "        for i in range(3,len(row)) : \n",
    "            pivot.append(int(row[i])/int(row[2]))\n",
    "        break\n",
    "mn = 1\n",
    "\n",
    "for row in data :\n",
    "    s = 0\n",
    "    for i in range(3, len(row)) :\n",
    "        row[i] = int(row[i])/int(row[2])\n",
    "        tmp = (row[i] - pivot[i-3]) ** 2\n",
    "        s = s + tmp\n",
    "    if s < mn and (name not in row[0]) :\n",
    "        result = []\n",
    "        for i in range(3, len(row)) :\n",
    "            result.append(row[i])\n",
    "        mn = s            \n",
    "        result_name = row[0]\n",
    "            \n",
    "import matplotlib.pyplot as plt\n",
    "plt.rc('font', family = 'NanumGothic')\n",
    "plt.plot(pivot, label = name)\n",
    "plt.plot(result, label = result_name)\n",
    "plt.legend()\n",
    "plt.show()"
   ]
  },
  {
   "cell_type": "code",
   "execution_count": null,
   "metadata": {},
   "outputs": [],
   "source": []
  }
 ],
 "metadata": {
  "kernelspec": {
   "display_name": "Python 3",
   "language": "python",
   "name": "python3"
  },
  "language_info": {
   "codemirror_mode": {
    "name": "ipython",
    "version": 3
   },
   "file_extension": ".py",
   "mimetype": "text/x-python",
   "name": "python",
   "nbconvert_exporter": "python",
   "pygments_lexer": "ipython3",
   "version": "3.7.6"
  }
 },
 "nbformat": 4,
 "nbformat_minor": 2
}
