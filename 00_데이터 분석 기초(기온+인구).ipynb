{
  "nbformat": 4,
  "nbformat_minor": 0,
  "metadata": {
    "kernelspec": {
      "display_name": "Python 3",
      "language": "python",
      "name": "python3"
    },
    "language_info": {
      "codemirror_mode": {
        "name": "ipython",
        "version": 3
      },
      "file_extension": ".py",
      "mimetype": "text/x-python",
      "name": "python",
      "nbconvert_exporter": "python",
      "pygments_lexer": "ipython3",
      "version": "3.7.6"
    },
    "colab": {
      "name": "00_1학기 기말고사 정리 - 데이터 분석 기초(코드만).ipynb",
      "provenance": [],
      "include_colab_link": true
    }
  },
  "cells": [
    {
      "cell_type": "markdown",
      "metadata": {
        "id": "view-in-github",
        "colab_type": "text"
      },
      "source": [
        "<a href=\"https://colab.research.google.com/github/greatsong/2020_public_data_analysis/blob/master/00_%EB%8D%B0%EC%9D%B4%ED%84%B0%20%EB%B6%84%EC%84%9D%20%EA%B8%B0%EC%B4%88(%EA%B8%B0%EC%98%A8%2B%EC%9D%B8%EA%B5%AC).ipynb\" target=\"_parent\"><img src=\"https://colab.research.google.com/assets/colab-badge.svg\" alt=\"Open In Colab\"/></a>"
      ]
    },
    {
      "cell_type": "code",
      "metadata": {
        "id": "fwEwoPGWWJ4G",
        "colab_type": "code",
        "colab": {}
      },
      "source": [
        "from google.colab import files\n",
        "uploaded = files.upload()"
      ],
      "execution_count": null,
      "outputs": []
    },
    {
      "cell_type": "code",
      "metadata": {
        "id": "DcwcAFQwWMah",
        "colab_type": "code",
        "colab": {}
      },
      "source": [
        "!git clone https://github.com/greatsong/2020_public_data_analysis"
      ],
      "execution_count": null,
      "outputs": []
    },
    {
      "cell_type": "code",
      "metadata": {
        "id": "hSwcNhpQWU0_",
        "colab_type": "code",
        "colab": {}
      },
      "source": [
        "cd 2020_public_data_analysis/"
      ],
      "execution_count": null,
      "outputs": []
    },
    {
      "cell_type": "code",
      "metadata": {
        "id": "RWawzQUqWejT",
        "colab_type": "code",
        "colab": {}
      },
      "source": [
        "ls"
      ],
      "execution_count": null,
      "outputs": []
    },
    {
      "cell_type": "markdown",
      "metadata": {
        "id": "3dlFLHFLV33N",
        "colab_type": "text"
      },
      "source": [
        "## 0. 기본적으로 알아야할 몇 가지 내용"
      ]
    },
    {
      "cell_type": "code",
      "metadata": {
        "id": "m20T_A7mV33Q",
        "colab_type": "code",
        "colab": {}
      },
      "source": [
        "#1. 데이터 타입 확인하기\n",
        "print(type('1'))\n",
        "print(type('3.14'))\n",
        "print(type(1))\n",
        "print(type(3.14))"
      ],
      "execution_count": null,
      "outputs": []
    },
    {
      "cell_type": "code",
      "metadata": {
        "id": "qnT-QzhIV33X",
        "colab_type": "code",
        "colab": {}
      },
      "source": [
        "#2. 코드 줄 바꾸기\n",
        "print('hello \\\n",
        "world')"
      ],
      "execution_count": null,
      "outputs": []
    },
    {
      "cell_type": "code",
      "metadata": {
        "id": "ftwsUymbV33c",
        "colab_type": "code",
        "colab": {}
      },
      "source": [
        "#3. 같은 값으로 채워진 리스트 N개 만들기\n",
        "a = [0] * 5\n",
        "print(a)"
      ],
      "execution_count": null,
      "outputs": []
    },
    {
      "cell_type": "code",
      "metadata": {
        "id": "LBR2pKwgV33i",
        "colab_type": "code",
        "colab": {}
      },
      "source": [
        "#4. xticks 함수 : x축에 내용 넣기\n",
        "import matplotlib.pyplot as plt\n",
        "plt.bar(range(10), [0,1,2,3,4,5,6,7,8,9])\n",
        "plt.xticks(range(10),range(10))\n",
        "plt.show()"
      ],
      "execution_count": null,
      "outputs": []
    },
    {
      "cell_type": "markdown",
      "metadata": {
        "id": "hAqYfevuV33m",
        "colab_type": "text"
      },
      "source": [
        "##  # 데이터 분석 기본 흐름"
      ]
    },
    {
      "cell_type": "code",
      "metadata": {
        "id": "kwXRCUt3V33n",
        "colab_type": "code",
        "colab": {}
      },
      "source": [
        "#0. 전처리 : 생략\n",
        "#1. (입력)데이터 불러오기 : csv 활용 -> 외울 필요 X\n",
        "#2. (처리)필요한 데이터 선택하기 : 중간고사 문법 + @\n",
        "#3. (처리)데이터 처리 : 중간고사 문법\n",
        "#4. (저장)필요한 데이터 저장하기 : 리스트 + (딕셔너리)\n",
        "#5. (출력)데이터 시각화 : 다양한 그래프 중 적합한 그래프 선택 - 꺾은선, 히스토그램, 박스플랏, (수평)막대 + (파이, 산점도, 버블)\n",
        "                          # 여기에 나오는 그래프 함수 이름과 사용 방법(필수 옵션)은 외워야 함!"
      ],
      "execution_count": null,
      "outputs": []
    },
    {
      "cell_type": "markdown",
      "metadata": {
        "id": "SYVy6KCoV33w",
        "colab_type": "text"
      },
      "source": [
        "## 1. 기온데이터"
      ]
    },
    {
      "cell_type": "code",
      "metadata": {
        "id": "NWPOVLn0V33x",
        "colab_type": "code",
        "colab": {}
      },
      "source": [
        "#1. 데이터 불러오기"
      ],
      "execution_count": null,
      "outputs": []
    },
    {
      "cell_type": "code",
      "metadata": {
        "id": "kKLUnkueV333",
        "colab_type": "code",
        "colab": {}
      },
      "source": [
        "import csv\n",
        "\n",
        "f = open('seoul_temp.csv', encoding = 'cp949')\n",
        "data = csv.reader(f)\n",
        "\n",
        "for row in data :\n",
        "    print(row)\n",
        "    break"
      ],
      "execution_count": null,
      "outputs": []
    },
    {
      "cell_type": "code",
      "metadata": {
        "id": "cSMnw1mXV339",
        "colab_type": "code",
        "colab": {}
      },
      "source": [
        "#2. 필요한 데이터 선택하기"
      ],
      "execution_count": null,
      "outputs": []
    },
    {
      "cell_type": "code",
      "metadata": {
        "id": "_H0JcsTuV34D",
        "colab_type": "code",
        "colab": {}
      },
      "source": [
        "import csv\n",
        "f = open('seoul_temp.csv', encoding = 'cp949')\n",
        "data = csv.reader(f)\n",
        "next(data)\n",
        "\n",
        "for row in data :\n",
        "    print(row[-1])\n",
        "    break"
      ],
      "execution_count": null,
      "outputs": []
    },
    {
      "cell_type": "code",
      "metadata": {
        "id": "OFbMhKuXV34I",
        "colab_type": "code",
        "colab": {}
      },
      "source": [
        "#3. 데이터 처리 : 숫자로 변환하기"
      ],
      "execution_count": null,
      "outputs": []
    },
    {
      "cell_type": "code",
      "metadata": {
        "id": "HYsvBUe6V34N",
        "colab_type": "code",
        "colab": {}
      },
      "source": [
        "import csv\n",
        "f = open('seoul_temp.csv', encoding = 'cp949')\n",
        "data = csv.reader(f)\n",
        "next(data)\n",
        "\n",
        "for row in data :\n",
        "    row[-1] = float(row[-1])\n",
        "    print(row[-1])\n",
        "    break"
      ],
      "execution_count": null,
      "outputs": []
    },
    {
      "cell_type": "code",
      "metadata": {
        "id": "Fle5CVHZV34T",
        "colab_type": "code",
        "colab": {}
      },
      "source": [
        "#4. 필요한 데이터 저장하기"
      ],
      "execution_count": null,
      "outputs": []
    },
    {
      "cell_type": "code",
      "metadata": {
        "id": "WQJa0SCyV34Y",
        "colab_type": "code",
        "colab": {}
      },
      "source": [
        "import csv\n",
        "\n",
        "f = open('seoul_temp.csv', encoding = 'cp949')\n",
        "data = csv.reader(f)\n",
        "next(data)\n",
        "result = []\n",
        "\n",
        "for row in data :\n",
        "    result.append(float(row[-1]))\n",
        "    print(result)\n",
        "    break"
      ],
      "execution_count": null,
      "outputs": []
    },
    {
      "cell_type": "code",
      "metadata": {
        "id": "WxQZjzM4V34d",
        "colab_type": "code",
        "colab": {}
      },
      "source": [
        "#3. 데이터 처리 : 비어있는 데이터 스킵"
      ],
      "execution_count": null,
      "outputs": []
    },
    {
      "cell_type": "code",
      "metadata": {
        "id": "8dmy3eV1V34i",
        "colab_type": "code",
        "colab": {}
      },
      "source": [
        "import csv\n",
        "\n",
        "f = open('seoul_temp.csv', encoding = 'cp949')\n",
        "data = csv.reader(f)\n",
        "next(data)\n",
        "result = []\n",
        "\n",
        "for row in data :\n",
        "    if row[-1] != '' : \n",
        "        result.append(float(row[-1]))\n",
        "print(result)"
      ],
      "execution_count": null,
      "outputs": []
    },
    {
      "cell_type": "code",
      "metadata": {
        "id": "khRwUYJbV34n",
        "colab_type": "code",
        "colab": {}
      },
      "source": [
        "#5. 데이터 시각화하기"
      ],
      "execution_count": null,
      "outputs": []
    },
    {
      "cell_type": "code",
      "metadata": {
        "id": "01uW705JV34r",
        "colab_type": "code",
        "colab": {}
      },
      "source": [
        "import csv\n",
        "f = open('seoul_temp.csv', encoding = 'cp949')\n",
        "data = csv.reader(f)\n",
        "next(data)\n",
        "result = []\n",
        "\n",
        "for row in data :\n",
        "    if row[-1] != '' :\n",
        "        result.append(float(row[-1]))\n",
        "\n",
        "import matplotlib.pyplot as plt\n",
        "plt.figure(dpi = 300)\n",
        "plt.plot(result,'r') # plot : 꺾은선 그래프!\n",
        "plt.show()"
      ],
      "execution_count": null,
      "outputs": []
    },
    {
      "cell_type": "code",
      "metadata": {
        "id": "1RJSWxyeV34w",
        "colab_type": "code",
        "colab": {}
      },
      "source": [
        "#2. 필요한 데이터 선택하기 : split 함수 + if 조건문 사용"
      ],
      "execution_count": null,
      "outputs": []
    },
    {
      "cell_type": "code",
      "metadata": {
        "id": "H21-HUgqV341",
        "colab_type": "code",
        "colab": {}
      },
      "source": [
        "s = 'hello python'\n",
        "print(s)"
      ],
      "execution_count": null,
      "outputs": []
    },
    {
      "cell_type": "code",
      "metadata": {
        "id": "rYHc7AFBV346",
        "colab_type": "code",
        "colab": {}
      },
      "source": [
        "s = 'hello python'\n",
        "print(s.split())"
      ],
      "execution_count": null,
      "outputs": []
    },
    {
      "cell_type": "code",
      "metadata": {
        "id": "0dOD06_-V34-",
        "colab_type": "code",
        "colab": {}
      },
      "source": [
        "print(s.split()[1])"
      ],
      "execution_count": null,
      "outputs": []
    },
    {
      "cell_type": "code",
      "metadata": {
        "id": "29MI6CIIV35D",
        "colab_type": "code",
        "colab": {}
      },
      "source": [
        "date = '1907-10-01'\n",
        "print(date.split('-'))"
      ],
      "execution_count": null,
      "outputs": []
    },
    {
      "cell_type": "code",
      "metadata": {
        "id": "Z6zaKLGkV35H",
        "colab_type": "code",
        "colab": {}
      },
      "source": [
        "print(date.split('-')[0])\n",
        "print(date.split('-')[1])\n",
        "print(date.split('-')[2])"
      ],
      "execution_count": null,
      "outputs": []
    },
    {
      "cell_type": "code",
      "metadata": {
        "id": "2CjI5fztV35M",
        "colab_type": "code",
        "colab": {}
      },
      "source": [
        "import csv\n",
        "f = open('seoul_temp.csv', encoding = 'cp949')\n",
        "data = csv.reader(f)\n",
        "next(data)\n",
        "result = []\n",
        "\n",
        "for row in data :\n",
        "    if row[-1] != '' :\n",
        "        if row[0].split('-')[1] == '08' :\n",
        "            result.append(float(row[-1]))\n",
        "\n",
        "import matplotlib.pyplot as plt\n",
        "plt.figure(dpi = 300)\n",
        "plt.plot(result, 'hotpink')\n",
        "plt.show()"
      ],
      "execution_count": null,
      "outputs": []
    },
    {
      "cell_type": "code",
      "metadata": {
        "id": "moShVsBBV35R",
        "colab_type": "code",
        "colab": {}
      },
      "source": [
        "import csv\n",
        "f = open('seoul_temp.csv', encoding = 'cp949')\n",
        "data = csv.reader(f)\n",
        "next(data)\n",
        "result = []\n",
        "\n",
        "for row in data :\n",
        "    if row[-1] != '' :\n",
        "        if row[0].split('-')[1] == '02' and row[0].split('-')[2] == '14' :\n",
        "            result.append(float(row[-1]))\n",
        "\n",
        "import matplotlib.pyplot as plt\n",
        "plt.figure(dpi = 300)\n",
        "plt.plot(result, 'hotpink')\n",
        "plt.show()"
      ],
      "execution_count": null,
      "outputs": []
    },
    {
      "cell_type": "code",
      "metadata": {
        "id": "hYd6VRZmV35X",
        "colab_type": "code",
        "colab": {}
      },
      "source": [
        "import csv\n",
        "f = open('seoul_temp.csv', encoding = 'cp949')\n",
        "data = csv.reader(f)\n",
        "next(data)\n",
        "high = []\n",
        "low = []\n",
        "\n",
        "for row in data :\n",
        "    if row[-1] != '' and row[-2] != '' :\n",
        "        if row[0].split('-')[1] == '02' and row[0].split('-')[2] == '14' :\n",
        "            high.append(float(row[-1]))\n",
        "            low.append(float(row[-2]))\n",
        "\n",
        "import matplotlib.pyplot as plt\n",
        "plt.figure(dpi = 300)\n",
        "plt.plot(high, 'hotpink')\n",
        "plt.plot(low, 'skyblue')\n",
        "plt.show()"
      ],
      "execution_count": null,
      "outputs": []
    },
    {
      "cell_type": "code",
      "metadata": {
        "id": "O2gXodcEV35c",
        "colab_type": "code",
        "colab": {}
      },
      "source": [
        "import csv\n",
        "f = open('seoul_temp.csv', encoding = 'cp949')\n",
        "data = csv.reader(f)\n",
        "next(data)\n",
        "high = []\n",
        "low = []\n",
        "\n",
        "for row in data :\n",
        "    if row[-1] != '' and row[-2] != '' :\n",
        "        if 2000 <= int(row[0].split('-')[0]) :\n",
        "            if row[0].split('-')[1] == '02' and row[0].split('-')[2] == '14' :\n",
        "                high.append(float(row[-1]))\n",
        "                low.append(float(row[-2]))\n",
        "\n",
        "import matplotlib.pyplot as plt\n",
        "plt.figure(dpi = 300)\n",
        "plt.plot(high, 'hotpink')\n",
        "plt.plot(low, 'skyblue')\n",
        "plt.show()"
      ],
      "execution_count": null,
      "outputs": []
    },
    {
      "cell_type": "code",
      "metadata": {
        "id": "oHUgBUCSV35g",
        "colab_type": "code",
        "colab": {}
      },
      "source": [
        "#5. 데이터 시각화하기 : 히스토그램(bins 속성)"
      ],
      "execution_count": null,
      "outputs": []
    },
    {
      "cell_type": "code",
      "metadata": {
        "id": "qLo3FCKKV35l",
        "colab_type": "code",
        "colab": {}
      },
      "source": [
        "import matplotlib.pyplot as plt\n",
        "plt.hist([1,1,1,2,2,2,2,2,2,2,2,2,3,3,3,3,3,4,4,5,5,5,5], bins = 5)\n",
        "plt.show()"
      ],
      "execution_count": null,
      "outputs": []
    },
    {
      "cell_type": "code",
      "metadata": {
        "id": "3B7aWkhFV35p",
        "colab_type": "code",
        "colab": {}
      },
      "source": [
        "import random\n",
        "print(random.randint(1,6))"
      ],
      "execution_count": null,
      "outputs": []
    },
    {
      "cell_type": "code",
      "metadata": {
        "id": "sDShF7M9V35u",
        "colab_type": "code",
        "colab": {}
      },
      "source": [
        "import random\n",
        "for i in range(5) :\n",
        "    print(random.randint(1,6))"
      ],
      "execution_count": null,
      "outputs": []
    },
    {
      "cell_type": "code",
      "metadata": {
        "id": "VoonyegjV35z",
        "colab_type": "code",
        "colab": {}
      },
      "source": [
        "import random\n",
        "dice = []\n",
        "for i in range(5) :\n",
        "    dice.append(random.randint(1,6))\n",
        "print(dice)"
      ],
      "execution_count": null,
      "outputs": []
    },
    {
      "cell_type": "code",
      "metadata": {
        "id": "Sl4V8CMCV353",
        "colab_type": "code",
        "colab": {}
      },
      "source": [
        "import random\n",
        "dice = []\n",
        "for i in range(5) :\n",
        "    dice.append(random.randint(1,6))\n",
        "print(dice)\n",
        "\n",
        "import matplotlib.pyplot as plt\n",
        "plt.figure(dpi = 300)\n",
        "plt.hist(dice, bins = 6)\n",
        "plt.show()"
      ],
      "execution_count": null,
      "outputs": []
    },
    {
      "cell_type": "code",
      "metadata": {
        "id": "SBWrijkNV357",
        "colab_type": "code",
        "colab": {}
      },
      "source": [
        "import random\n",
        "dice = []\n",
        "for i in range(100) :\n",
        "    dice.append(random.randint(1,6))\n",
        "print(dice)\n",
        "\n",
        "import matplotlib.pyplot as plt\n",
        "plt.figure(dpi = 300)\n",
        "plt.hist(dice, bins = 6)\n",
        "plt.show()"
      ],
      "execution_count": null,
      "outputs": []
    },
    {
      "cell_type": "code",
      "metadata": {
        "id": "Uw7rubrmV36A",
        "colab_type": "code",
        "colab": {}
      },
      "source": [
        "import random\n",
        "dice = []\n",
        "for i in range(100) :\n",
        "    dice.append(random.randint(1,6))\n",
        "print(dice)\n",
        "\n",
        "import matplotlib.pyplot as plt\n",
        "plt.figure(dpi = 300)\n",
        "plt.hist(dice, bins = 6)\n",
        "plt.show()"
      ],
      "execution_count": null,
      "outputs": []
    },
    {
      "cell_type": "code",
      "metadata": {
        "id": "CZKdpt97V36D",
        "colab_type": "code",
        "colab": {}
      },
      "source": [
        "import random\n",
        "dice = []\n",
        "for i in range(1000000) :\n",
        "    dice.append(random.randint(1,6))\n",
        "\n",
        "import matplotlib.pyplot as plt\n",
        "plt.figure(dpi = 300)\n",
        "plt.hist(dice, bins = 6)\n",
        "plt.show()"
      ],
      "execution_count": null,
      "outputs": []
    },
    {
      "cell_type": "code",
      "metadata": {
        "id": "bTPDiEQYV36H",
        "colab_type": "code",
        "colab": {}
      },
      "source": [
        "import csv\n",
        "f = open('seoul_temp.csv', encoding = 'cp949')\n",
        "data = csv.reader(f)\n",
        "next(data)\n",
        "result = []\n",
        "\n",
        "for row in data :\n",
        "    if row[-1] != '' :\n",
        "        result.append(float(row[-1]))\n",
        "\n",
        "import matplotlib.pyplot as plt\n",
        "plt.hist(result, bins = 100, color = 'r')\n",
        "plt.show()"
      ],
      "execution_count": null,
      "outputs": []
    },
    {
      "cell_type": "code",
      "metadata": {
        "id": "a5dgq2PMV36K",
        "colab_type": "code",
        "colab": {}
      },
      "source": [
        "plt.figure(dpi = 300)\n",
        "plt.hist(result, bins = 1000, color = 'r')\n",
        "plt.show()"
      ],
      "execution_count": null,
      "outputs": []
    },
    {
      "cell_type": "code",
      "metadata": {
        "id": "IN_3amXVV36N",
        "colab_type": "code",
        "colab": {}
      },
      "source": [
        "import csv\n",
        "f = open('seoul_temp.csv', encoding = 'cp949')\n",
        "data = csv.reader(f)\n",
        "next(data)\n",
        "aug = []\n",
        "\n",
        "for row in data :\n",
        "    month = row[0].split('-')[1]\n",
        "    if row[-1] != '' :\n",
        "        if month == '08':\n",
        "            aug.append(float(row[-1]))\n",
        "\n",
        "import matplotlib.pyplot as plt\n",
        "plt.figure(dpi = 300)\n",
        "plt.hist(aug, bins = 100, color = 'r')\n",
        "plt.show()"
      ],
      "execution_count": null,
      "outputs": []
    },
    {
      "cell_type": "code",
      "metadata": {
        "id": "M8-VSahYV36Q",
        "colab_type": "code",
        "colab": {}
      },
      "source": [
        "import csv\n",
        "f = open('seoul_temp.csv', encoding = 'cp949')\n",
        "data = csv.reader(f)\n",
        "next(data)\n",
        "aug = []\n",
        "jan = []\n",
        "\n",
        "for row in data :\n",
        "    month = row[0].split('-')[1]\n",
        "    if row[-1] != '' :\n",
        "        if month == '08':\n",
        "            aug.append(float(row[-1]))\n",
        "        if month == '01':\n",
        "            jan.append(float(row[-1]))\n",
        "\n",
        "import matplotlib.pyplot as plt\n",
        "plt.figure(dpi = 300)\n",
        "plt.hist(aug, bins = 100, color = 'r', label = 'Aug')\n",
        "plt.hist(jan, bins = 100, color = 'b', label = 'Jan')\n",
        "plt.legend()\n",
        "plt.show()"
      ],
      "execution_count": null,
      "outputs": []
    },
    {
      "cell_type": "code",
      "metadata": {
        "id": "iMkW12PRV36U",
        "colab_type": "code",
        "colab": {}
      },
      "source": [
        "import csv\n",
        "f = open('seoul_temp.csv', encoding = 'cp949')\n",
        "data = csv.reader(f)\n",
        "next(data)\n",
        "aug = []\n",
        "jul = []\n",
        "\n",
        "for row in data :\n",
        "    month = row[0].split('-')[1]\n",
        "    if row[-1] != '' :\n",
        "        if month == '08':\n",
        "            aug.append(float(row[-1]))\n",
        "        if month == '07':\n",
        "            jul.append(float(row[-1]))\n",
        "\n",
        "import matplotlib.pyplot as plt\n",
        "plt.figure(dpi = 300)\n",
        "plt.hist(aug, bins = 100, color = 'r', label = 'Aug', alpha = 0.3)\n",
        "plt.hist(jul, bins = 100, color = 'magenta', label = 'Jul', alpha = 0.3)\n",
        "plt.legend()\n",
        "plt.show()"
      ],
      "execution_count": null,
      "outputs": []
    },
    {
      "cell_type": "code",
      "metadata": {
        "id": "AatJMksCV36a",
        "colab_type": "code",
        "colab": {}
      },
      "source": [
        "#5. 데이터 시각화하기 : 박스플랏(5가지 통계적 특성 : 최댓값,1사분위,중앙값,3사분위,최솟값)"
      ],
      "execution_count": null,
      "outputs": []
    },
    {
      "cell_type": "code",
      "metadata": {
        "id": "EU0hmIxLV36e",
        "colab_type": "code",
        "colab": {}
      },
      "source": [
        "import random\n",
        "result = []\n",
        "for i in range(13) :\n",
        "    result.append(random.randint(1,1000))\n",
        "print(sorted(result))\n",
        "# 넘파이는 나중에 배우게 되겠지만, 유용하니 참고만 하세요!\n",
        "import numpy as np\n",
        "result = np.array(result)\n",
        "print(\"1/4: \" + str(np.percentile(result,25)))\n",
        "print(\"2/4: \" + str(np.percentile(result,50)))\n",
        "print(\"3/4: \" + str(np.percentile(result,75)))\n",
        "\n",
        "import matplotlib.pyplot as plt\n",
        "plt.boxplot(result)\n",
        "plt.show()"
      ],
      "execution_count": null,
      "outputs": []
    },
    {
      "cell_type": "code",
      "metadata": {
        "id": "r_XI2RPzV36h",
        "colab_type": "code",
        "colab": {}
      },
      "source": [
        "import csv\n",
        "f = open('seoul_temp.csv', encoding = 'cp949')\n",
        "data = csv.reader(f)\n",
        "next(data)\n",
        "result = []\n",
        "\n",
        "for row in data :\n",
        "    if row[-1] != '' :\n",
        "        result.append(float(row[-1]))\n",
        "\n",
        "import matplotlib.pyplot as plt\n",
        "plt.boxplot(result)\n",
        "plt.show()"
      ],
      "execution_count": null,
      "outputs": []
    },
    {
      "cell_type": "code",
      "metadata": {
        "id": "QKMZ2JwdV36m",
        "colab_type": "code",
        "colab": {}
      },
      "source": [
        "import csv\n",
        "f = open('seoul_temp.csv', encoding = 'cp949')\n",
        "data = csv.reader(f)\n",
        "next(data)\n",
        "aug = []\n",
        "jan = []\n",
        "\n",
        "for row in data :\n",
        "    month = row[0].split('-')[1]\n",
        "    if row[-1] != '' :\n",
        "        if month == '08':\n",
        "            aug.append(float(row[-1]))\n",
        "        if month == '01':\n",
        "            jan.append(float(row[-1]))\n",
        "\n",
        "import matplotlib.pyplot as plt\n",
        "plt.boxplot(aug)\n",
        "plt.boxplot(jan)\n",
        "plt.show()"
      ],
      "execution_count": null,
      "outputs": []
    },
    {
      "cell_type": "code",
      "metadata": {
        "id": "HlzyXLipV36q",
        "colab_type": "code",
        "colab": {}
      },
      "source": [
        "import csv\n",
        "f = open('seoul_temp.csv', encoding = 'cp949')\n",
        "data = csv.reader(f)\n",
        "next(data)\n",
        "aug = []\n",
        "jan = []\n",
        "\n",
        "for row in data :\n",
        "    month = row[0].split('-')[1]\n",
        "    if row[-1] != '' :\n",
        "        if month == '08':\n",
        "            aug.append(float(row[-1]))\n",
        "        if month == '01':\n",
        "            jan.append(float(row[-1]))\n",
        "\n",
        "import matplotlib.pyplot as plt\n",
        "plt.boxplot([aug,jan])\n",
        "plt.show()"
      ],
      "execution_count": null,
      "outputs": []
    },
    {
      "cell_type": "code",
      "metadata": {
        "id": "EDnSVGhqV36v",
        "colab_type": "code",
        "colab": {}
      },
      "source": [
        "import csv\n",
        "f = open('seoul_temp.csv', encoding = 'cp949')\n",
        "data = csv.reader(f)\n",
        "next(data)\n",
        "aug = []\n",
        "jan = []\n",
        "\n",
        "for row in data :\n",
        "    month = row[0].split('-')[1]\n",
        "    if row[-1] != '' :\n",
        "        if month == '08':\n",
        "            aug.append(float(row[-1]))\n",
        "        if month == '01':\n",
        "            jan.append(float(row[-1]))\n",
        "\n",
        "import matplotlib.pyplot as plt\n",
        "plt.figure(dpi = 300)\n",
        "plt.style.use('ggplot')\n",
        "plt.boxplot([aug,jan], showfliers=False) # 아웃라이어 값 제거\n",
        "plt.xticks((1,2), ['Aug','Jan'])\n",
        "plt.show()"
      ],
      "execution_count": null,
      "outputs": []
    },
    {
      "cell_type": "code",
      "metadata": {
        "id": "ycOtt5uJV36z",
        "colab_type": "code",
        "colab": {}
      },
      "source": [
        "import matplotlib.pyplot as plt\n",
        "import csv\n",
        "f = open('seoul_temp.csv', encoding = 'cp949')\n",
        "data = csv.reader(f)\n",
        "next(data)\n",
        "month = [[],[],[],[],[],[],[],[],[],[],[],[]]\n",
        "\n",
        "for row in data :\n",
        "    if row[-1] != '' :\n",
        "        month[int(row[0].split('-')[1])-1].append(float(row[-1]))\n",
        "        \n",
        "plt.figure(figsize=(10,5), dpi=300)\n",
        "plt.boxplot(month, showfliers=False)\n",
        "\n",
        "plt.show()"
      ],
      "execution_count": null,
      "outputs": []
    },
    {
      "cell_type": "markdown",
      "metadata": {
        "id": "tJYEr8MZV362",
        "colab_type": "text"
      },
      "source": [
        "## 2. 인구데이터(성별 구분 X)"
      ]
    },
    {
      "cell_type": "code",
      "metadata": {
        "id": "oeCfGo39V362",
        "colab_type": "code",
        "colab": {}
      },
      "source": [
        "#2. 필요한 데이터 선택하기 : in 연산자 사용"
      ],
      "execution_count": null,
      "outputs": []
    },
    {
      "cell_type": "code",
      "metadata": {
        "id": "ddxVLq-ZV366",
        "colab_type": "code",
        "colab": {}
      },
      "source": [
        "print('신도림' in '서울특별시 구로구 신도림동(1153051000)')\n",
        "print('1153' in '서울특별시 구로구 신도림동(1153051000)')\n",
        "print('()' in '서울특별시 구로구 신도림동(1153051000)')"
      ],
      "execution_count": null,
      "outputs": []
    },
    {
      "cell_type": "code",
      "metadata": {
        "id": "UztrMrLzV36-",
        "colab_type": "code",
        "colab": {}
      },
      "source": [
        "import csv\n",
        "f = open('age.csv')\n",
        "data = csv.reader(f)\n",
        "\n",
        "for row in data :\n",
        "    if '신도림' in row[0] :\n",
        "        print(row)"
      ],
      "execution_count": null,
      "outputs": []
    },
    {
      "cell_type": "code",
      "metadata": {
        "id": "qC9L2b10V37G",
        "colab_type": "code",
        "colab": {}
      },
      "source": [
        "import csv\n",
        "f = open('age.csv')\n",
        "data = csv.reader(f)\n",
        "\n",
        "for row in data :\n",
        "    if '제주' in row[0] :\n",
        "        print(row)"
      ],
      "execution_count": null,
      "outputs": []
    },
    {
      "cell_type": "code",
      "metadata": {
        "id": "JwkhlF9tV37L",
        "colab_type": "code",
        "colab": {}
      },
      "source": [
        "import csv\n",
        "f = open('age.csv')\n",
        "data = csv.reader(f)\n",
        "\n",
        "for row in data :\n",
        "    if '제주' in row[0] :\n",
        "        print(row)\n",
        "        break"
      ],
      "execution_count": null,
      "outputs": []
    },
    {
      "cell_type": "code",
      "metadata": {
        "id": "LAKHqMpAV37N",
        "colab_type": "code",
        "colab": {}
      },
      "source": [
        "import csv\n",
        "f = open('age.csv')\n",
        "data = csv.reader(f)\n",
        "\n",
        "for row in data :\n",
        "    if '신도림' in row[0] :\n",
        "        print(len(row[3:]))"
      ],
      "execution_count": null,
      "outputs": []
    },
    {
      "cell_type": "code",
      "metadata": {
        "id": "5Xnt4LhhV37S",
        "colab_type": "code",
        "colab": {}
      },
      "source": [
        "import csv\n",
        "f = open('age.csv')\n",
        "data = csv.reader(f)\n",
        "result = []\n",
        "for row in data :\n",
        "    if '신도림' in row[0] :\n",
        "        for i in row[3:] :\n",
        "            result.append(i)\n",
        "print(result)"
      ],
      "execution_count": null,
      "outputs": []
    },
    {
      "cell_type": "code",
      "metadata": {
        "id": "trVuCzmFV37U",
        "colab_type": "code",
        "colab": {}
      },
      "source": [
        "import csv\n",
        "f = open('age.csv')\n",
        "data = csv.reader(f)\n",
        "result = []\n",
        "for row in data :\n",
        "    if '신도림' in row[0] :\n",
        "        for i in row[3:] :\n",
        "            result.append(int(i))\n",
        "print(result)"
      ],
      "execution_count": null,
      "outputs": []
    },
    {
      "cell_type": "code",
      "metadata": {
        "id": "PmpLTS2jV37a",
        "colab_type": "code",
        "colab": {}
      },
      "source": [
        "import csv\n",
        "f = open('age.csv')\n",
        "data = csv.reader(f)\n",
        "result = []\n",
        "for row in data :\n",
        "    if '신도림동' in row[0] :\n",
        "        for i in row[3:] :\n",
        "            result.append(int(i))\n",
        "            \n",
        "import matplotlib.pyplot as plt\n",
        "plt.plot(result)\n",
        "plt.show()"
      ],
      "execution_count": null,
      "outputs": []
    },
    {
      "cell_type": "code",
      "metadata": {
        "id": "90bzFhiIV37c",
        "colab_type": "code",
        "colab": {}
      },
      "source": [
        "#5. 데이터 시각화하기 : 막대그래프(바플랏) - x축, y축 데이터 모두 명시해야 함!"
      ],
      "execution_count": null,
      "outputs": []
    },
    {
      "cell_type": "code",
      "metadata": {
        "id": "AH2bmPWeV37f",
        "colab_type": "code",
        "colab": {}
      },
      "source": [
        "import matplotlib.pyplot as plt\n",
        "plt.bar([1,2,3,5,6,7])\n",
        "plt.show()"
      ],
      "execution_count": null,
      "outputs": []
    },
    {
      "cell_type": "code",
      "metadata": {
        "id": "t7vl1kN5V37i",
        "colab_type": "code",
        "colab": {}
      },
      "source": [
        "import matplotlib.pyplot as plt\n",
        "plt.figure(figsize = (10,5), dpi=300)            \n",
        "plt.bar([0,1,2,4,6,10], [1,2,3,5,6,7])\n",
        "plt.show()"
      ],
      "execution_count": null,
      "outputs": []
    },
    {
      "cell_type": "code",
      "metadata": {
        "id": "ocdJIYQCV37l",
        "colab_type": "code",
        "colab": {}
      },
      "source": [
        "import matplotlib.pyplot as plt\n",
        "plt.figure(figsize = (10,5), dpi=300)            \n",
        "plt.bar(range(6), [1,2,3,5,6,7])\n",
        "plt.show()"
      ],
      "execution_count": null,
      "outputs": []
    },
    {
      "cell_type": "code",
      "metadata": {
        "id": "AeVfi7zVV37o",
        "colab_type": "code",
        "colab": {}
      },
      "source": [
        "import csv\n",
        "f = open('age.csv')\n",
        "data = csv.reader(f)\n",
        "\n",
        "result = []\n",
        "for row in data :\n",
        "    if '신도림' in row[0] :\n",
        "        for i in row[3:] :\n",
        "            result.append(int(i))\n",
        "            \n",
        "import matplotlib.pyplot as plt\n",
        "plt.figure(figsize = (10,5), dpi=300)            \n",
        "plt.bar(range(101), result)\n",
        "plt.show()"
      ],
      "execution_count": null,
      "outputs": []
    },
    {
      "cell_type": "markdown",
      "metadata": {
        "id": "WHZr75keV37r",
        "colab_type": "text"
      },
      "source": [
        "## 3. 인구데이터(성별 구분 O)"
      ]
    },
    {
      "cell_type": "code",
      "metadata": {
        "id": "ZKgldypOV37s",
        "colab_type": "code",
        "colab": {}
      },
      "source": [
        "import csv\n",
        "f = open('age_gender.csv')\n",
        "data = csv.reader(f)\n",
        "\n",
        "m = []\n",
        "f = []\n",
        "for row in data :\n",
        "    if '신도림' in row[0] :\n",
        "        for i in row[3:104] :\n",
        "            m.append(int(i))\n",
        "        for i in row[106:] :\n",
        "            f.append(int(i))\n",
        "            \n",
        "print(len(m))\n",
        "print(len(f))"
      ],
      "execution_count": null,
      "outputs": []
    },
    {
      "cell_type": "code",
      "metadata": {
        "id": "2EG7m-syV37u",
        "colab_type": "code",
        "colab": {}
      },
      "source": [
        "#5. 데이터 시각화하기 : 수평막대그래프(barh) - x축, y축 데이터 모두 명시해야 함!"
      ],
      "execution_count": null,
      "outputs": []
    },
    {
      "cell_type": "code",
      "metadata": {
        "id": "d7E2MTr-V37w",
        "colab_type": "code",
        "colab": {}
      },
      "source": [
        "import matplotlib.pyplot as plt\n",
        "plt.style.use('ggplot')\n",
        "plt.figure(figsize = (10,5), dpi=300)            \n",
        "plt.barh(range(101), m)\n",
        "plt.barh(range(101), f)\n",
        "plt.show()"
      ],
      "execution_count": null,
      "outputs": []
    },
    {
      "cell_type": "code",
      "metadata": {
        "id": "lX4jfKPIV370",
        "colab_type": "code",
        "colab": {}
      },
      "source": [
        "import csv\n",
        "f = open('age_gender.csv')\n",
        "data = csv.reader(f)\n",
        "\n",
        "m = []\n",
        "f = []\n",
        "for row in data :\n",
        "    if '신도림' in row[0] :\n",
        "        for i in row[3:104] :\n",
        "            m.append(-int(i))\n",
        "        for i in row[106:] :\n",
        "            f.append(int(i))\n",
        "            \n",
        "print(len(m))\n",
        "print(len(f))"
      ],
      "execution_count": null,
      "outputs": []
    },
    {
      "cell_type": "code",
      "metadata": {
        "id": "MV22m1aEV372",
        "colab_type": "code",
        "colab": {}
      },
      "source": [
        "import matplotlib.pyplot as plt\n",
        "plt.style.use('ggplot') # 참고만 하세요! 외울 필요 전혀 없습니다!!\n",
        "plt.figure(figsize = (10,5), dpi=300) # 참고만 하세요! 외울 필요 전혀 없습니다!!\n",
        "plt.rc('font', family = 'Malgun Gothic') # 참고만 하세요! 외울 필요 전혀 없습니다!!\n",
        "plt.rcParams['axes.unicode_minus'] = False # 참고만 하세요! 외울 필요 전혀 없습니다!!\n",
        "plt.title('신도림 지역의 남녀 성별 인구 분포')\n",
        "plt.barh(range(101), m, label = '남성')\n",
        "plt.barh(range(101), f, label = '여성')\n",
        "plt.legend() # 참고만 하세요! 외울 필요 전혀 없습니다!!\n",
        "plt.show()"
      ],
      "execution_count": null,
      "outputs": []
    },
    {
      "cell_type": "code",
      "metadata": {
        "id": "q64M7mGsV374",
        "colab_type": "code",
        "colab": {}
      },
      "source": [
        ""
      ],
      "execution_count": null,
      "outputs": []
    }
  ]
}