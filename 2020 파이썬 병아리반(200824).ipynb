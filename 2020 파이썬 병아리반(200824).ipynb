{
 "cells": [
  {
   "cell_type": "markdown",
   "metadata": {
    "colab_type": "text",
    "id": "bjGWGfDnGz__"
   },
   "source": [
    "### step 1) 파이썬 병아리반"
   ]
  },
  {
   "cell_type": "markdown",
   "metadata": {
    "colab_type": "text",
    "id": "5EbsCWbNG0AB"
   },
   "source": [
    "##### 1. 출력 함수 : 결과를 출력할 때 사용"
   ]
  },
  {
   "cell_type": "code",
   "execution_count": null,
   "metadata": {
    "colab": {
     "autoexec": {
      "startup": false,
      "wait_interval": 0
     },
     "base_uri": "https://localhost:8080/",
     "height": 34
    },
    "colab_type": "code",
    "executionInfo": {
     "elapsed": 1050,
     "status": "ok",
     "timestamp": 1533523232161,
     "user": {
      "displayName": "석리송",
      "photoUrl": "//lh6.googleusercontent.com/-nl1P2bIgjO4/AAAAAAAAAAI/AAAAAAAAJAY/chhU_TyZjOs/s50-c-k-no/photo.jpg",
      "userId": "107801588019081221306"
     },
     "user_tz": -540
    },
    "id": "PbG4Lmc9G0AB",
    "outputId": "e395aa8a-ed1e-4c9d-859e-d66c83b2ef70"
   },
   "outputs": [],
   "source": [
    "print('hello world')"
   ]
  },
  {
   "cell_type": "markdown",
   "metadata": {
    "colab_type": "text",
    "id": "BEw_lMktG0AF"
   },
   "source": [
    "##### 2. 변수 : 데이터를 메모리에 저장할 때 사용"
   ]
  },
  {
   "cell_type": "code",
   "execution_count": null,
   "metadata": {
    "colab": {
     "autoexec": {
      "startup": false,
      "wait_interval": 0
     }
    },
    "colab_type": "code",
    "id": "rPPFu3omG0AF"
   },
   "outputs": [],
   "source": [
    "name = '석리송'\n",
    "print(name)\n",
    "print(name+'님 안녕하세요!')\n",
    "print(2020, name)"
   ]
  },
  {
   "cell_type": "markdown",
   "metadata": {
    "colab_type": "text",
    "id": "IdP-_Bt-G0AI"
   },
   "source": [
    "##### 3. 입력 함수 : 데이터를 입력할 때 사용"
   ]
  },
  {
   "cell_type": "code",
   "execution_count": null,
   "metadata": {
    "colab": {
     "autoexec": {
      "startup": false,
      "wait_interval": 0
     }
    },
    "colab_type": "code",
    "id": "zf5O6QbWG0AI"
   },
   "outputs": [],
   "source": [
    "name = input()\n",
    "name = input('이름을 입력해주세요 : ')\n",
    "age = input('나이를 입력해주세요 : ')\n",
    "age = int(age)\n",
    "print(name+'님은',age-4,'살처럼 보이시네요!!')"
   ]
  },
  {
   "cell_type": "markdown",
   "metadata": {
    "colab_type": "text",
    "id": "VMg9vWnjG0AL"
   },
   "source": [
    "##### 4. 연산자 : 산술, 비교, 논리\n",
    "##### 4-1. 산술연산자 : 산술적 연산(a.k.a 계산)을 할 때 사용"
   ]
  },
  {
   "cell_type": "code",
   "execution_count": null,
   "metadata": {
    "colab": {
     "autoexec": {
      "startup": false,
      "wait_interval": 0
     }
    },
    "colab_type": "code",
    "id": "CWwLHrIjG0AM"
   },
   "outputs": [],
   "source": [
    "print(3 + 10)\n",
    "print(3 ** 10)\n",
    "print(3 % 10)\n",
    "print(3 / 2)\n",
    "print(3 // 2)"
   ]
  },
  {
   "cell_type": "markdown",
   "metadata": {
    "colab_type": "text",
    "id": "n7sFkmKjG0AO"
   },
   "source": [
    "##### 4-2. 비교연산자 : 어떤 값의 크기를 비교할 때 사용"
   ]
  },
  {
   "cell_type": "code",
   "execution_count": null,
   "metadata": {
    "colab": {
     "autoexec": {
      "startup": false,
      "wait_interval": 0
     }
    },
    "colab_type": "code",
    "id": "H_CCJxdPG0AO"
   },
   "outputs": [],
   "source": [
    "print(10 >= 3)\n",
    "print(10 <= 3)\n",
    "print(10 == 3)\n",
    "print(10 != 3)\n",
    "print(3 % 2 == 1)"
   ]
  },
  {
   "cell_type": "markdown",
   "metadata": {
    "colab_type": "text",
    "id": "ZkzsLqlVG0AR"
   },
   "source": [
    "##### 4-3. 논리연산자 : 어떤 조건이 참인지 거짓인지 판단할 때 사용"
   ]
  },
  {
   "cell_type": "code",
   "execution_count": null,
   "metadata": {
    "colab": {
     "autoexec": {
      "startup": false,
      "wait_interval": 0
     }
    },
    "colab_type": "code",
    "id": "HjLHrqG2G0AS"
   },
   "outputs": [],
   "source": [
    "print(1 == 1 and 2 != 1)\n",
    "print(10 % 2 != 0 and 1 + 1 > 0)\n",
    "print(10 % 2 != 0 or 1 + 1 > 0)\n",
    "print(not True)\n",
    "print(not 0)"
   ]
  },
  {
   "cell_type": "markdown",
   "metadata": {
    "colab_type": "text",
    "id": "o_wXZS0WG0AV"
   },
   "source": [
    "### step 2) 파이썬 기초반"
   ]
  },
  {
   "cell_type": "markdown",
   "metadata": {
    "colab_type": "text",
    "id": "8HiGp0ADG0AW"
   },
   "source": [
    "##### 1. 라이브러리 함수 : 다른 누군가가 만들어둔 함수 활용하기"
   ]
  },
  {
   "cell_type": "code",
   "execution_count": null,
   "metadata": {
    "colab": {
     "autoexec": {
      "startup": false,
      "wait_interval": 0
     }
    },
    "colab_type": "code",
    "id": "BD0yXdtwG0AW"
   },
   "outputs": [],
   "source": [
    "import random\n",
    "print(random.randint(1,6))\n",
    "\n",
    "dice = random.randint(1,6)\n",
    "print(dice)"
   ]
  },
  {
   "cell_type": "code",
   "execution_count": null,
   "metadata": {
    "colab": {
     "autoexec": {
      "startup": false,
      "wait_interval": 0
     }
    },
    "colab_type": "code",
    "id": "KY1Ts3M4G0Ab"
   },
   "outputs": [],
   "source": [
    "help(random)"
   ]
  },
  {
   "cell_type": "markdown",
   "metadata": {
    "colab_type": "text",
    "id": "7cl_mHegG0Ae"
   },
   "source": [
    "##### 2. for 반복문 : 정해진 횟수만큼, 또는 주어진 데이터를 반복하고 싶을 때"
   ]
  },
  {
   "cell_type": "code",
   "execution_count": null,
   "metadata": {
    "colab": {
     "autoexec": {
      "startup": false,
      "wait_interval": 0
     }
    },
    "colab_type": "code",
    "id": "l8BxfdYBG0Ae"
   },
   "outputs": [],
   "source": [
    "for name in ['쵸파','루피','상디','조로'] :\n",
    "    print(name)"
   ]
  },
  {
   "cell_type": "code",
   "execution_count": null,
   "metadata": {
    "colab": {
     "autoexec": {
      "startup": false,
      "wait_interval": 0
     }
    },
    "colab_type": "code",
    "id": "Ynv9vMgmG0Ah"
   },
   "outputs": [],
   "source": [
    "for i in [0,1,2,3] :\n",
    "    print(i)"
   ]
  },
  {
   "cell_type": "code",
   "execution_count": null,
   "metadata": {
    "colab": {
     "autoexec": {
      "startup": false,
      "wait_interval": 0
     }
    },
    "colab_type": "code",
    "id": "UfP-Z6RoG0Aj"
   },
   "outputs": [],
   "source": [
    "for i in [0,1,2,3] :\n",
    "    print(i ** 2)"
   ]
  },
  {
   "cell_type": "code",
   "execution_count": null,
   "metadata": {
    "colab": {
     "autoexec": {
      "startup": false,
      "wait_interval": 0
     }
    },
    "colab_type": "code",
    "id": "O-Js7CBxG0Al"
   },
   "outputs": [],
   "source": [
    "for i in range(4) :\n",
    "    print(i ** 2)"
   ]
  },
  {
   "cell_type": "code",
   "execution_count": null,
   "metadata": {
    "colab": {
     "autoexec": {
      "startup": false,
      "wait_interval": 0
     }
    },
    "colab_type": "code",
    "id": "U6dw-F4GG0Aq"
   },
   "outputs": [],
   "source": [
    "help(range)"
   ]
  },
  {
   "cell_type": "code",
   "execution_count": null,
   "metadata": {
    "colab": {
     "autoexec": {
      "startup": false,
      "wait_interval": 0
     }
    },
    "colab_type": "code",
    "id": "tCsVr0n4G0At"
   },
   "outputs": [],
   "source": [
    "for i in range(1,10) : \n",
    "    print('2 *', i, '=', 2 * i)"
   ]
  },
  {
   "cell_type": "markdown",
   "metadata": {
    "colab_type": "text",
    "id": "b6d0nNzmG0A0"
   },
   "source": [
    "##### 3. 선택문 : 조건에 따라 실행을 다르게 하고 싶을 때"
   ]
  },
  {
   "cell_type": "code",
   "execution_count": null,
   "metadata": {
    "colab": {
     "autoexec": {
      "startup": false,
      "wait_interval": 0
     }
    },
    "colab_type": "code",
    "id": "-O2kTVLDG0A1"
   },
   "outputs": [],
   "source": [
    "if True :\n",
    "    print('이것은 참입니다.')"
   ]
  },
  {
   "cell_type": "code",
   "execution_count": null,
   "metadata": {
    "colab": {
     "autoexec": {
      "startup": false,
      "wait_interval": 0
     }
    },
    "colab_type": "code",
    "id": "azSwEPELG0A2"
   },
   "outputs": [],
   "source": [
    "c = 0\n",
    "\n",
    "if c :\n",
    "    print('이것은 참입니다.')\n",
    "else :\n",
    "    print('이것은 거짓입니다.')"
   ]
  },
  {
   "cell_type": "markdown",
   "metadata": {
    "colab_type": "text",
    "id": "l5XzQV3aG0A9"
   },
   "source": [
    "##### 4. 리스트 : 순서가 있는 데이터를 저장하고 싶을 때"
   ]
  },
  {
   "cell_type": "code",
   "execution_count": null,
   "metadata": {
    "colab": {
     "autoexec": {
      "startup": false,
      "wait_interval": 0
     }
    },
    "colab_type": "code",
    "id": "iEjjrjGWG0BB"
   },
   "outputs": [],
   "source": [
    "help(list)"
   ]
  },
  {
   "cell_type": "code",
   "execution_count": null,
   "metadata": {
    "colab": {
     "autoexec": {
      "startup": false,
      "wait_interval": 0
     },
     "base_uri": "https://localhost:8080/",
     "height": 119
    },
    "colab_type": "code",
    "executionInfo": {
     "elapsed": 930,
     "status": "ok",
     "timestamp": 1533523239506,
     "user": {
      "displayName": "석리송",
      "photoUrl": "//lh6.googleusercontent.com/-nl1P2bIgjO4/AAAAAAAAAAI/AAAAAAAAJAY/chhU_TyZjOs/s50-c-k-no/photo.jpg",
      "userId": "107801588019081221306"
     },
     "user_tz": -540
    },
    "id": "4AuN2dKrG0BD",
    "outputId": "2e52542d-d3f5-42c2-c88c-01c074459966"
   },
   "outputs": [],
   "source": [
    "names = ['쵸파','루피','상디','조로']\n",
    "print(names)\n",
    "print(len(names))\n",
    "\n",
    "print(names[1])\n",
    "print(names[0])\n",
    "print(names[-1])\n",
    "print(names[1:3])"
   ]
  },
  {
   "cell_type": "code",
   "execution_count": null,
   "metadata": {
    "colab": {
     "autoexec": {
      "startup": false,
      "wait_interval": 0
     }
    },
    "colab_type": "code",
    "id": "tjOAQLLnG0BF"
   },
   "outputs": [],
   "source": [
    "names = ['쵸파','루피','상디','조로']\n",
    "for name in names :\n",
    "    print(name,'왔나요~?')"
   ]
  },
  {
   "cell_type": "markdown",
   "metadata": {
    "colab_type": "text",
    "id": "VbW5ZhDSG0BH"
   },
   "source": [
    "### step 3) 파이썬 기본반"
   ]
  },
  {
   "cell_type": "markdown",
   "metadata": {
    "colab_type": "text",
    "id": "zXeQHJCPG0BH"
   },
   "source": [
    "##### 1. while 반복문 : 조건에 따라 반복하고 싶을 때"
   ]
  },
  {
   "cell_type": "code",
   "execution_count": null,
   "metadata": {
    "colab": {
     "autoexec": {
      "startup": false,
      "wait_interval": 0
     }
    },
    "colab_type": "code",
    "id": "KbQLXiFAG0BJ"
   },
   "outputs": [],
   "source": [
    "a = 10\n",
    "if a > 0 : \n",
    "    print(a)"
   ]
  },
  {
   "cell_type": "code",
   "execution_count": null,
   "metadata": {
    "colab": {
     "autoexec": {
      "startup": false,
      "wait_interval": 0
     }
    },
    "colab_type": "code",
    "id": "CQi5J2H1G0BL"
   },
   "outputs": [],
   "source": [
    "a = 10\n",
    "while a > 0 : \n",
    "    print(a)"
   ]
  },
  {
   "cell_type": "code",
   "execution_count": null,
   "metadata": {
    "colab": {
     "autoexec": {
      "startup": false,
      "wait_interval": 0
     }
    },
    "colab_type": "code",
    "id": "yniFP5hWG0BM"
   },
   "outputs": [],
   "source": [
    "a = 10\n",
    "while a > 0 : \n",
    "    a = a - 1\n",
    "    print(a)"
   ]
  },
  {
   "cell_type": "code",
   "execution_count": null,
   "metadata": {
    "colab": {
     "autoexec": {
      "startup": false,
      "wait_interval": 0
     }
    },
    "colab_type": "code",
    "id": "gOTXfLe2G0BO"
   },
   "outputs": [],
   "source": [
    "a = 10\n",
    "while a > 0 : \n",
    "    print(a)\n",
    "    a = a - 1"
   ]
  },
  {
   "cell_type": "markdown",
   "metadata": {
    "colab_type": "text",
    "id": "OoQsUb3iG0BQ"
   },
   "source": [
    "##### 2. break : 반복문을 멈추고 싶을 때 사용"
   ]
  },
  {
   "cell_type": "code",
   "execution_count": null,
   "metadata": {
    "colab": {
     "autoexec": {
      "startup": false,
      "wait_interval": 0
     }
    },
    "colab_type": "code",
    "id": "AS-zfX8IG0BT"
   },
   "outputs": [],
   "source": [
    "for i in range(1, 10) :\n",
    "    if i % 3 == 0 :\n",
    "        break\n",
    "    print(i)"
   ]
  },
  {
   "cell_type": "markdown",
   "metadata": {
    "colab_type": "text",
    "id": "EitmgY6WG0BX"
   },
   "source": [
    "##### 3. continue : 반복문의 나머지 부분을 skip하고 싶을 때 사용"
   ]
  },
  {
   "cell_type": "code",
   "execution_count": null,
   "metadata": {
    "colab": {
     "autoexec": {
      "startup": false,
      "wait_interval": 0
     }
    },
    "colab_type": "code",
    "id": "byBQFkW3G0BY"
   },
   "outputs": [],
   "source": [
    "for i in range(1, 10) :\n",
    "    if i % 3 == 0 :\n",
    "        continue\n",
    "    print(i)"
   ]
  },
  {
   "cell_type": "markdown",
   "metadata": {
    "colab_type": "text",
    "id": "TFNhA4C7G0Ba"
   },
   "source": [
    "##### 4. dictionary : 키와 값이 한 쌍을 이루는 데이터를 저장하고 싶을 때"
   ]
  },
  {
   "cell_type": "code",
   "execution_count": null,
   "metadata": {
    "colab": {
     "autoexec": {
      "startup": false,
      "wait_interval": 0
     }
    },
    "colab_type": "code",
    "id": "gkryeSxdG0Bb"
   },
   "outputs": [],
   "source": [
    "menu = {'카페라떼' : 2500, '아이스라떼' : 3000, '핫초코' : 2000, '망고빙수' : 5000}"
   ]
  },
  {
   "cell_type": "code",
   "execution_count": null,
   "metadata": {
    "colab": {
     "autoexec": {
      "startup": false,
      "wait_interval": 0
     }
    },
    "colab_type": "code",
    "id": "DBozEW3mG0Be"
   },
   "outputs": [],
   "source": [
    "print(menu)\n",
    "print(menu['카페라떼'])\n",
    "print(menu[2500])"
   ]
  },
  {
   "cell_type": "code",
   "execution_count": null,
   "metadata": {
    "colab": {
     "autoexec": {
      "startup": false,
      "wait_interval": 0
     }
    },
    "colab_type": "code",
    "id": "FEjKtOUHG0Bg"
   },
   "outputs": [],
   "source": [
    "order = input('원하는 메뉴를 입력해주세요 : ')\n",
    "print(menu[order],'원입니다.')"
   ]
  },
  {
   "cell_type": "code",
   "execution_count": null,
   "metadata": {
    "colab": {
     "autoexec": {
      "startup": false,
      "wait_interval": 0
     }
    },
    "colab_type": "code",
    "id": "uS_gUNPoG0Bj"
   },
   "outputs": [],
   "source": [
    "item = input('추가하실 메뉴를 입력해주세요 : ')\n",
    "price = input('추가하실 메뉴의 가격을 입력해주세요 : ')\n",
    "menu[item] = price\n",
    "print(menu)"
   ]
  },
  {
   "cell_type": "code",
   "execution_count": null,
   "metadata": {
    "colab": {
     "autoexec": {
      "startup": false,
      "wait_interval": 0
     }
    },
    "colab_type": "code",
    "id": "aKTWx_YtG0Bk"
   },
   "outputs": [],
   "source": [
    "txt = 'good to great'\n",
    "cnt = {}\n",
    "for i in txt :\n",
    "    if i not in cnt :\n",
    "        cnt[i] = 1\n",
    "    else :\n",
    "        cnt[i] += 1\n",
    "print(cnt)"
   ]
  }
 ],
 "metadata": {
  "colab": {
   "default_view": {},
   "name": "파이썬 병아리반(180801).ipynb",
   "provenance": [],
   "version": "0.3.2",
   "views": {}
  },
  "kernelspec": {
   "display_name": "Python 3",
   "language": "python",
   "name": "python3"
  },
  "language_info": {
   "codemirror_mode": {
    "name": "ipython",
    "version": 3
   },
   "file_extension": ".py",
   "mimetype": "text/x-python",
   "name": "python",
   "nbconvert_exporter": "python",
   "pygments_lexer": "ipython3",
   "version": "3.7.6"
  }
 },
 "nbformat": 4,
 "nbformat_minor": 1
}
