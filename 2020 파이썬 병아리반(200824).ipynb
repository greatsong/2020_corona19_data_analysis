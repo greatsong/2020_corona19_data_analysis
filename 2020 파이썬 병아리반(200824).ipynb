{
  "nbformat": 4,
  "nbformat_minor": 0,
  "metadata": {
    "colab": {
      "name": "파이썬 병아리반(180801).ipynb",
      "provenance": [],
      "include_colab_link": true
    },
    "kernelspec": {
      "display_name": "Python 3",
      "language": "python",
      "name": "python3"
    },
    "language_info": {
      "codemirror_mode": {
        "name": "ipython",
        "version": 3
      },
      "file_extension": ".py",
      "mimetype": "text/x-python",
      "name": "python",
      "nbconvert_exporter": "python",
      "pygments_lexer": "ipython3",
      "version": "3.7.6"
    }
  },
  "cells": [
    {
      "cell_type": "markdown",
      "metadata": {
        "id": "view-in-github",
        "colab_type": "text"
      },
      "source": [
        "<a href=\"https://colab.research.google.com/github/greatsong/2020_public_data_analysis/blob/master/2020%20%ED%8C%8C%EC%9D%B4%EC%8D%AC%20%EB%B3%91%EC%95%84%EB%A6%AC%EB%B0%98(200824).ipynb\" target=\"_parent\"><img src=\"https://colab.research.google.com/assets/colab-badge.svg\" alt=\"Open In Colab\"/></a>"
      ]
    },
    {
      "cell_type": "markdown",
      "metadata": {
        "colab_type": "text",
        "id": "bjGWGfDnGz__"
      },
      "source": [
        "### step 1) 파이썬 병아리반"
      ]
    },
    {
      "cell_type": "markdown",
      "metadata": {
        "colab_type": "text",
        "id": "5EbsCWbNG0AB"
      },
      "source": [
        "##### 1. 출력 함수 : 결과를 출력할 때 사용"
      ]
    },
    {
      "cell_type": "code",
      "metadata": {
        "colab_type": "code",
        "id": "PbG4Lmc9G0AB",
        "colab": {}
      },
      "source": [
        "print('hello world')"
      ],
      "execution_count": null,
      "outputs": []
    },
    {
      "cell_type": "markdown",
      "metadata": {
        "colab_type": "text",
        "id": "BEw_lMktG0AF"
      },
      "source": [
        "##### 2. 변수 : 데이터를 메모리에 저장할 때 사용"
      ]
    },
    {
      "cell_type": "code",
      "metadata": {
        "colab_type": "code",
        "id": "rPPFu3omG0AF",
        "colab": {}
      },
      "source": [
        "name = '석리송'\n",
        "print(name)\n",
        "print(name+'님 안녕하세요!')\n",
        "print(2020, name)"
      ],
      "execution_count": null,
      "outputs": []
    },
    {
      "cell_type": "markdown",
      "metadata": {
        "colab_type": "text",
        "id": "IdP-_Bt-G0AI"
      },
      "source": [
        "##### 3. 입력 함수 : 데이터를 입력할 때 사용"
      ]
    },
    {
      "cell_type": "code",
      "metadata": {
        "colab_type": "code",
        "id": "zf5O6QbWG0AI",
        "colab": {}
      },
      "source": [
        "name = input()\n",
        "name = input('이름을 입력해주세요 : ')\n",
        "age = input('나이를 입력해주세요 : ')\n",
        "age = int(age)\n",
        "print(name+'님은',age-4,'살처럼 보이시네요!!')"
      ],
      "execution_count": null,
      "outputs": []
    },
    {
      "cell_type": "markdown",
      "metadata": {
        "colab_type": "text",
        "id": "VMg9vWnjG0AL"
      },
      "source": [
        "##### 4. 연산자 : 산술, 비교, 논리\n",
        "##### 4-1. 산술연산자 : 산술적 연산(a.k.a 계산)을 할 때 사용"
      ]
    },
    {
      "cell_type": "code",
      "metadata": {
        "colab_type": "code",
        "id": "CWwLHrIjG0AM",
        "colab": {}
      },
      "source": [
        "print(3 + 10)\n",
        "print(3 ** 10)\n",
        "print(3 % 10)\n",
        "print(3 / 2)\n",
        "print(3 // 2)"
      ],
      "execution_count": null,
      "outputs": []
    },
    {
      "cell_type": "markdown",
      "metadata": {
        "colab_type": "text",
        "id": "n7sFkmKjG0AO"
      },
      "source": [
        "##### 4-2. 비교연산자 : 어떤 값의 크기를 비교할 때 사용"
      ]
    },
    {
      "cell_type": "code",
      "metadata": {
        "colab_type": "code",
        "id": "H_CCJxdPG0AO",
        "colab": {}
      },
      "source": [
        "print(10 >= 3)\n",
        "print(10 <= 3)\n",
        "print(10 == 3)\n",
        "print(10 != 3)\n",
        "print(3 % 2 == 1)"
      ],
      "execution_count": null,
      "outputs": []
    },
    {
      "cell_type": "markdown",
      "metadata": {
        "colab_type": "text",
        "id": "ZkzsLqlVG0AR"
      },
      "source": [
        "##### 4-3. 논리연산자 : 어떤 조건이 참인지 거짓인지 판단할 때 사용"
      ]
    },
    {
      "cell_type": "code",
      "metadata": {
        "colab_type": "code",
        "id": "HjLHrqG2G0AS",
        "colab": {}
      },
      "source": [
        "print(1 == 1 and 2 != 1)\n",
        "print(10 % 2 != 0 and 1 + 1 > 0)\n",
        "print(10 % 2 != 0 or 1 + 1 > 0)\n",
        "print(not True)\n",
        "print(not 0)"
      ],
      "execution_count": null,
      "outputs": []
    },
    {
      "cell_type": "markdown",
      "metadata": {
        "colab_type": "text",
        "id": "o_wXZS0WG0AV"
      },
      "source": [
        "### step 2) 파이썬 기초반"
      ]
    },
    {
      "cell_type": "markdown",
      "metadata": {
        "colab_type": "text",
        "id": "8HiGp0ADG0AW"
      },
      "source": [
        "##### 1. 라이브러리 함수 : 다른 누군가가 만들어둔 함수 활용하기"
      ]
    },
    {
      "cell_type": "code",
      "metadata": {
        "colab_type": "code",
        "id": "BD0yXdtwG0AW",
        "colab": {}
      },
      "source": [
        "import random\n",
        "print(random.randint(1,6))\n",
        "\n",
        "dice = random.randint(1,6)\n",
        "print(dice)"
      ],
      "execution_count": null,
      "outputs": []
    },
    {
      "cell_type": "code",
      "metadata": {
        "colab_type": "code",
        "id": "KY1Ts3M4G0Ab",
        "colab": {}
      },
      "source": [
        "help(random)"
      ],
      "execution_count": null,
      "outputs": []
    },
    {
      "cell_type": "markdown",
      "metadata": {
        "colab_type": "text",
        "id": "7cl_mHegG0Ae"
      },
      "source": [
        "##### 2. for 반복문 : 정해진 횟수만큼, 또는 주어진 데이터를 반복하고 싶을 때"
      ]
    },
    {
      "cell_type": "code",
      "metadata": {
        "colab_type": "code",
        "id": "l8BxfdYBG0Ae",
        "colab": {}
      },
      "source": [
        "for name in ['쵸파','루피','상디','조로'] :\n",
        "    print(name)"
      ],
      "execution_count": null,
      "outputs": []
    },
    {
      "cell_type": "code",
      "metadata": {
        "colab_type": "code",
        "id": "Ynv9vMgmG0Ah",
        "colab": {}
      },
      "source": [
        "for i in [0,1,2,3] :\n",
        "    print(i)"
      ],
      "execution_count": null,
      "outputs": []
    },
    {
      "cell_type": "code",
      "metadata": {
        "colab_type": "code",
        "id": "UfP-Z6RoG0Aj",
        "colab": {}
      },
      "source": [
        "for i in [0,1,2,3] :\n",
        "    print(i ** 2)"
      ],
      "execution_count": null,
      "outputs": []
    },
    {
      "cell_type": "code",
      "metadata": {
        "colab_type": "code",
        "id": "O-Js7CBxG0Al",
        "colab": {}
      },
      "source": [
        "for i in range(4) :\n",
        "    print(i ** 2)"
      ],
      "execution_count": null,
      "outputs": []
    },
    {
      "cell_type": "code",
      "metadata": {
        "colab_type": "code",
        "id": "U6dw-F4GG0Aq",
        "colab": {}
      },
      "source": [
        "help(range)"
      ],
      "execution_count": null,
      "outputs": []
    },
    {
      "cell_type": "code",
      "metadata": {
        "colab_type": "code",
        "id": "tCsVr0n4G0At",
        "colab": {}
      },
      "source": [
        "for i in range(1,10) : \n",
        "    print('2 *', i, '=', 2 * i)"
      ],
      "execution_count": null,
      "outputs": []
    },
    {
      "cell_type": "markdown",
      "metadata": {
        "colab_type": "text",
        "id": "b6d0nNzmG0A0"
      },
      "source": [
        "##### 3. 선택문 : 조건에 따라 실행을 다르게 하고 싶을 때"
      ]
    },
    {
      "cell_type": "code",
      "metadata": {
        "colab_type": "code",
        "id": "-O2kTVLDG0A1",
        "colab": {}
      },
      "source": [
        "if True :\n",
        "    print('이것은 참입니다.')"
      ],
      "execution_count": null,
      "outputs": []
    },
    {
      "cell_type": "code",
      "metadata": {
        "colab_type": "code",
        "id": "azSwEPELG0A2",
        "colab": {}
      },
      "source": [
        "c = 0\n",
        "\n",
        "if c :\n",
        "    print('이것은 참입니다.')\n",
        "else :\n",
        "    print('이것은 거짓입니다.')"
      ],
      "execution_count": null,
      "outputs": []
    },
    {
      "cell_type": "markdown",
      "metadata": {
        "colab_type": "text",
        "id": "l5XzQV3aG0A9"
      },
      "source": [
        "##### 4. 리스트 : 순서가 있는 데이터를 저장하고 싶을 때"
      ]
    },
    {
      "cell_type": "code",
      "metadata": {
        "colab_type": "code",
        "id": "iEjjrjGWG0BB",
        "colab": {}
      },
      "source": [
        "help(list)"
      ],
      "execution_count": null,
      "outputs": []
    },
    {
      "cell_type": "code",
      "metadata": {
        "colab_type": "code",
        "id": "4AuN2dKrG0BD",
        "colab": {}
      },
      "source": [
        "names = ['쵸파','루피','상디','조로']\n",
        "print(names)\n",
        "print(len(names))\n",
        "\n",
        "print(names[1])\n",
        "print(names[0])\n",
        "print(names[-1])\n",
        "print(names[1:3])"
      ],
      "execution_count": null,
      "outputs": []
    },
    {
      "cell_type": "code",
      "metadata": {
        "colab_type": "code",
        "id": "tjOAQLLnG0BF",
        "colab": {}
      },
      "source": [
        "names = ['쵸파','루피','상디','조로']\n",
        "for name in names :\n",
        "    print(name,'왔나요~?')"
      ],
      "execution_count": null,
      "outputs": []
    },
    {
      "cell_type": "markdown",
      "metadata": {
        "colab_type": "text",
        "id": "VbW5ZhDSG0BH"
      },
      "source": [
        "### step 3) 파이썬 기본반"
      ]
    },
    {
      "cell_type": "markdown",
      "metadata": {
        "colab_type": "text",
        "id": "zXeQHJCPG0BH"
      },
      "source": [
        "##### 1. while 반복문 : 조건에 따라 반복하고 싶을 때"
      ]
    },
    {
      "cell_type": "code",
      "metadata": {
        "colab_type": "code",
        "id": "KbQLXiFAG0BJ",
        "colab": {}
      },
      "source": [
        "a = 10\n",
        "if a > 0 : \n",
        "    print(a)"
      ],
      "execution_count": null,
      "outputs": []
    },
    {
      "cell_type": "code",
      "metadata": {
        "colab_type": "code",
        "id": "CQi5J2H1G0BL",
        "colab": {}
      },
      "source": [
        "a = 10\n",
        "while a > 0 : \n",
        "    print(a)"
      ],
      "execution_count": null,
      "outputs": []
    },
    {
      "cell_type": "code",
      "metadata": {
        "colab_type": "code",
        "id": "yniFP5hWG0BM",
        "colab": {}
      },
      "source": [
        "a = 10\n",
        "while a > 0 : \n",
        "    a = a - 1\n",
        "    print(a)"
      ],
      "execution_count": null,
      "outputs": []
    },
    {
      "cell_type": "code",
      "metadata": {
        "colab_type": "code",
        "id": "gOTXfLe2G0BO",
        "colab": {}
      },
      "source": [
        "a = 10\n",
        "while a > 0 : \n",
        "    print(a)\n",
        "    a = a - 1"
      ],
      "execution_count": null,
      "outputs": []
    },
    {
      "cell_type": "markdown",
      "metadata": {
        "colab_type": "text",
        "id": "OoQsUb3iG0BQ"
      },
      "source": [
        "##### 2. break : 반복문을 멈추고 싶을 때 사용"
      ]
    },
    {
      "cell_type": "code",
      "metadata": {
        "colab_type": "code",
        "id": "AS-zfX8IG0BT",
        "colab": {}
      },
      "source": [
        "for i in range(1, 10) :\n",
        "    if i % 3 == 0 :\n",
        "        break\n",
        "    print(i)"
      ],
      "execution_count": null,
      "outputs": []
    },
    {
      "cell_type": "markdown",
      "metadata": {
        "colab_type": "text",
        "id": "EitmgY6WG0BX"
      },
      "source": [
        "##### 3. continue : 반복문의 나머지 부분을 skip하고 싶을 때 사용"
      ]
    },
    {
      "cell_type": "code",
      "metadata": {
        "colab_type": "code",
        "id": "byBQFkW3G0BY",
        "colab": {}
      },
      "source": [
        "for i in range(1, 10) :\n",
        "    if i % 3 == 0 :\n",
        "        continue\n",
        "    print(i)"
      ],
      "execution_count": null,
      "outputs": []
    },
    {
      "cell_type": "markdown",
      "metadata": {
        "colab_type": "text",
        "id": "TFNhA4C7G0Ba"
      },
      "source": [
        "##### 4. dictionary : 키와 값이 한 쌍을 이루는 데이터를 저장하고 싶을 때"
      ]
    },
    {
      "cell_type": "code",
      "metadata": {
        "colab_type": "code",
        "id": "gkryeSxdG0Bb",
        "colab": {}
      },
      "source": [
        "menu = {'카페라떼' : 2500, '아이스라떼' : 3000, '핫초코' : 2000, '망고빙수' : 5000}"
      ],
      "execution_count": null,
      "outputs": []
    },
    {
      "cell_type": "code",
      "metadata": {
        "colab_type": "code",
        "id": "DBozEW3mG0Be",
        "colab": {}
      },
      "source": [
        "print(menu)\n",
        "print(menu['카페라떼'])\n",
        "print(menu[2500])"
      ],
      "execution_count": null,
      "outputs": []
    },
    {
      "cell_type": "code",
      "metadata": {
        "colab_type": "code",
        "id": "FEjKtOUHG0Bg",
        "colab": {}
      },
      "source": [
        "order = input('원하는 메뉴를 입력해주세요 : ')\n",
        "print(menu[order],'원입니다.')"
      ],
      "execution_count": null,
      "outputs": []
    },
    {
      "cell_type": "code",
      "metadata": {
        "colab_type": "code",
        "id": "uS_gUNPoG0Bj",
        "colab": {}
      },
      "source": [
        "item = input('추가하실 메뉴를 입력해주세요 : ')\n",
        "price = input('추가하실 메뉴의 가격을 입력해주세요 : ')\n",
        "menu[item] = price\n",
        "print(menu)"
      ],
      "execution_count": null,
      "outputs": []
    },
    {
      "cell_type": "code",
      "metadata": {
        "colab_type": "code",
        "id": "aKTWx_YtG0Bk",
        "colab": {}
      },
      "source": [
        "txt = 'good to great'\n",
        "cnt = {}\n",
        "for i in txt :\n",
        "    if i not in cnt :\n",
        "        cnt[i] = 1\n",
        "    else :\n",
        "        cnt[i] += 1\n",
        "print(cnt)"
      ],
      "execution_count": null,
      "outputs": []
    }
  ]
}