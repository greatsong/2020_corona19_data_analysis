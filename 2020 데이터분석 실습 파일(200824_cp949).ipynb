{
  "nbformat": 4,
  "nbformat_minor": 0,
  "metadata": {
    "kernelspec": {
      "display_name": "Python 3",
      "language": "python",
      "name": "python3"
    },
    "language_info": {
      "codemirror_mode": {
        "name": "ipython",
        "version": 3
      },
      "file_extension": ".py",
      "mimetype": "text/x-python",
      "name": "python",
      "nbconvert_exporter": "python",
      "pygments_lexer": "ipython3",
      "version": "3.7.6"
    },
    "colab": {
      "name": "2020 데이터분석 실습 파일(200824_cp949).ipynb",
      "provenance": [],
      "include_colab_link": true
    }
  },
  "cells": [
    {
      "cell_type": "markdown",
      "metadata": {
        "id": "view-in-github",
        "colab_type": "text"
      },
      "source": [
        "<a href=\"https://colab.research.google.com/github/greatsong/2020_public_data_analysis/blob/master/2020%20%EB%8D%B0%EC%9D%B4%ED%84%B0%EB%B6%84%EC%84%9D%20%EC%8B%A4%EC%8A%B5%20%ED%8C%8C%EC%9D%BC(200824_cp949).ipynb\" target=\"_parent\"><img src=\"https://colab.research.google.com/assets/colab-badge.svg\" alt=\"Open In Colab\"/></a>"
      ]
    },
    {
      "cell_type": "code",
      "metadata": {
        "id": "KZpcAkiA7R2r",
        "colab_type": "code",
        "colab": {}
      },
      "source": [
        "!git clone https://github.com/greatsong/2020_public_data_analysis"
      ],
      "execution_count": null,
      "outputs": []
    },
    {
      "cell_type": "code",
      "metadata": {
        "id": "l8cA-ure7aRH",
        "colab_type": "code",
        "colab": {
          "base_uri": "https://localhost:8080/",
          "height": 36
        },
        "outputId": "ad1c5a1a-430c-4e32-e349-865788a9dd94"
      },
      "source": [
        "!ls"
      ],
      "execution_count": null,
      "outputs": [
        {
          "output_type": "stream",
          "text": [
            "2020_public_data_analysis  sample_data\n"
          ],
          "name": "stdout"
        }
      ]
    },
    {
      "cell_type": "code",
      "metadata": {
        "id": "wDGRpU9m7cIm",
        "colab_type": "code",
        "colab": {}
      },
      "source": [
        "cd 2020_public_data_analysis"
      ],
      "execution_count": null,
      "outputs": []
    },
    {
      "cell_type": "code",
      "metadata": {
        "id": "BxAkEsXC7jzt",
        "colab_type": "code",
        "colab": {}
      },
      "source": [
        "ls"
      ],
      "execution_count": null,
      "outputs": []
    },
    {
      "cell_type": "code",
      "metadata": {
        "id": "3o4qqPDF6pUd",
        "colab_type": "code",
        "colab": {}
      },
      "source": [
        "!apt -qq -y install fonts-nanum"
      ],
      "execution_count": null,
      "outputs": []
    },
    {
      "cell_type": "code",
      "metadata": {
        "id": "bjFLgTIx6qNl",
        "colab_type": "code",
        "colab": {}
      },
      "source": [
        "import matplotlib.pyplot as plt\n",
        "import matplotlib.font_manager as fm\n",
        "\n",
        "fontpath = '/usr/share/fonts/truetype/nanum/NanumGothic.ttf'\n",
        "font = fm.FontProperties(fname=fontpath, size=10)\n",
        "fm._rebuild()"
      ],
      "execution_count": null,
      "outputs": []
    },
    {
      "cell_type": "code",
      "metadata": {
        "id": "5BQhPoMa6qVP",
        "colab_type": "code",
        "colab": {}
      },
      "source": [
        "# 위 코드 실행 후 [메뉴] - [런타임] - [런타임 다시 시작] - [예]"
      ],
      "execution_count": null,
      "outputs": []
    },
    {
      "cell_type": "markdown",
      "metadata": {
        "id": "u_ZpHRN96l_Y",
        "colab_type": "text"
      },
      "source": [
        "##  # 데이터 분석 기본 흐름"
      ]
    },
    {
      "cell_type": "code",
      "metadata": {
        "id": "rHlnI7v96l_Z",
        "colab_type": "code",
        "colab": {}
      },
      "source": [
        "#0. 전처리 : 생략\n",
        "#1. (입력)데이터 불러오기 : csv 활용 -> 외울 필요 X\n",
        "#2. (처리)필요한 데이터 선택하기 : 병아리반 + @\n",
        "#3. (처리)데이터 처리 : 병아리반\n",
        "#4. (저장)필요한 데이터 저장하기 : 리스트 + (딕셔너리)\n",
        "#5. (출력)데이터 시각화 : 다양한 그래프 중 적합한 그래프 선택 - 꺾은선, 히스토그램, 박스플랏, (수평)막대 + (파이, 산점도, 버블)"
      ],
      "execution_count": null,
      "outputs": []
    },
    {
      "cell_type": "code",
      "metadata": {
        "id": "NCF_x3Egc8F9",
        "colab_type": "code",
        "colab": {}
      },
      "source": [
        "cd 2020_public_data_analysis"
      ],
      "execution_count": null,
      "outputs": []
    },
    {
      "cell_type": "markdown",
      "metadata": {
        "id": "uEm4NmLz6l_d",
        "colab_type": "text"
      },
      "source": [
        "## 1. 기온데이터"
      ]
    },
    {
      "cell_type": "code",
      "metadata": {
        "id": "nS7K98-M6l_g",
        "colab_type": "code",
        "colab": {}
      },
      "source": [
        "#1. 데이터 불러오기"
      ],
      "execution_count": null,
      "outputs": []
    },
    {
      "cell_type": "code",
      "metadata": {
        "id": "hBd_Ldun6l_j",
        "colab_type": "code",
        "colab": {}
      },
      "source": [
        "import csv\n",
        "\n",
        "f = open('seoul_temp.csv', encoding = 'cp949')\n",
        "data = csv.reader(f)\n",
        "\n",
        "for row in data :\n",
        "    print(row)\n",
        "    break"
      ],
      "execution_count": null,
      "outputs": []
    },
    {
      "cell_type": "code",
      "metadata": {
        "id": "Z8V0AtmZ6l_m",
        "colab_type": "code",
        "colab": {}
      },
      "source": [
        "#2. 필요한 데이터 선택하기"
      ],
      "execution_count": null,
      "outputs": []
    },
    {
      "cell_type": "code",
      "metadata": {
        "id": "zqruWYtZ6l_o",
        "colab_type": "code",
        "colab": {}
      },
      "source": [
        "import csv\n",
        "f = open('seoul_temp.csv', encoding = 'cp949')\n",
        "data = csv.reader(f)\n",
        "next(data)\n",
        "\n",
        "for row in data :\n",
        "    print(row[-1])\n",
        "    break"
      ],
      "execution_count": null,
      "outputs": []
    },
    {
      "cell_type": "code",
      "metadata": {
        "id": "h8_MNFis6l_q",
        "colab_type": "code",
        "colab": {}
      },
      "source": [
        "#3. 데이터 처리 : 숫자로 변환하기"
      ],
      "execution_count": null,
      "outputs": []
    },
    {
      "cell_type": "code",
      "metadata": {
        "id": "FO0I2fkj6l_s",
        "colab_type": "code",
        "colab": {}
      },
      "source": [
        "import csv\n",
        "f = open('seoul_temp.csv', encoding = 'cp949')\n",
        "data = csv.reader(f)\n",
        "next(data)\n",
        "\n",
        "for row in data :\n",
        "    row[-1] = float(row[-1])\n",
        "    print(row[-1])\n",
        "    break"
      ],
      "execution_count": null,
      "outputs": []
    },
    {
      "cell_type": "code",
      "metadata": {
        "id": "PI5vDSLi6l_v",
        "colab_type": "code",
        "colab": {}
      },
      "source": [
        "#4. 필요한 데이터 저장하기"
      ],
      "execution_count": null,
      "outputs": []
    },
    {
      "cell_type": "code",
      "metadata": {
        "id": "YULp0YH-6l_0",
        "colab_type": "code",
        "colab": {}
      },
      "source": [
        "import csv\n",
        "\n",
        "f = open('seoul_temp.csv', encoding = 'cp949')\n",
        "data = csv.reader(f)\n",
        "next(data)\n",
        "result = []\n",
        "\n",
        "for row in data :\n",
        "    result.append(float(row[-1]))\n",
        "    print(result)\n",
        "    break"
      ],
      "execution_count": null,
      "outputs": []
    },
    {
      "cell_type": "code",
      "metadata": {
        "id": "wsXsnuRU6l_2",
        "colab_type": "code",
        "colab": {}
      },
      "source": [
        "#3. 데이터 처리 : 비어있는 데이터 스킵"
      ],
      "execution_count": null,
      "outputs": []
    },
    {
      "cell_type": "code",
      "metadata": {
        "id": "eM-oWonz6l_4",
        "colab_type": "code",
        "colab": {}
      },
      "source": [
        "import csv\n",
        "\n",
        "f = open('seoul_temp.csv', encoding = 'cp949')\n",
        "data = csv.reader(f)\n",
        "next(data)\n",
        "result = []\n",
        "\n",
        "for row in data :\n",
        "    if row[-1] != '' : \n",
        "        result.append(float(row[-1]))\n",
        "print(result)"
      ],
      "execution_count": null,
      "outputs": []
    },
    {
      "cell_type": "code",
      "metadata": {
        "id": "FucjZK1T6l_6",
        "colab_type": "code",
        "colab": {}
      },
      "source": [
        "#5. 데이터 시각화하기"
      ],
      "execution_count": null,
      "outputs": []
    },
    {
      "cell_type": "code",
      "metadata": {
        "id": "H-qUT0u66l_8",
        "colab_type": "code",
        "colab": {}
      },
      "source": [
        "import csv\n",
        "f = open('seoul_temp.csv', encoding = 'cp949')\n",
        "data = csv.reader(f)\n",
        "next(data)\n",
        "result = []\n",
        "\n",
        "for row in data :\n",
        "    if row[-1] != '' :\n",
        "        result.append(float(row[-1]))\n",
        "\n",
        "import matplotlib.pyplot as plt\n",
        "plt.figure(dpi = 300)\n",
        "plt.plot(result,'r') # plot : 꺾은선 그래프!\n",
        "plt.show()"
      ],
      "execution_count": null,
      "outputs": []
    },
    {
      "cell_type": "code",
      "metadata": {
        "id": "dsiJtygX6l_-",
        "colab_type": "code",
        "colab": {}
      },
      "source": [
        "#2. 필요한 데이터 선택하기 : split 함수 + if 조건문 사용"
      ],
      "execution_count": null,
      "outputs": []
    },
    {
      "cell_type": "code",
      "metadata": {
        "id": "GhQ1einB6mAA",
        "colab_type": "code",
        "colab": {}
      },
      "source": [
        "s = 'hello python'\n",
        "print(s)"
      ],
      "execution_count": null,
      "outputs": []
    },
    {
      "cell_type": "code",
      "metadata": {
        "id": "E3dDMNgI6mAC",
        "colab_type": "code",
        "colab": {}
      },
      "source": [
        "s = 'hello python'\n",
        "print(s.split())"
      ],
      "execution_count": null,
      "outputs": []
    },
    {
      "cell_type": "code",
      "metadata": {
        "id": "jrAWU9LA6mAE",
        "colab_type": "code",
        "colab": {}
      },
      "source": [
        "print(s.split()[1])"
      ],
      "execution_count": null,
      "outputs": []
    },
    {
      "cell_type": "code",
      "metadata": {
        "id": "p2hHk5z96mAG",
        "colab_type": "code",
        "colab": {}
      },
      "source": [
        "date = '1907-10-01'\n",
        "print(date.split('-'))"
      ],
      "execution_count": null,
      "outputs": []
    },
    {
      "cell_type": "code",
      "metadata": {
        "id": "rETRZH-N6mAH",
        "colab_type": "code",
        "colab": {}
      },
      "source": [
        "print(date.split('-')[0])\n",
        "print(date.split('-')[1])\n",
        "print(date.split('-')[2])"
      ],
      "execution_count": null,
      "outputs": []
    },
    {
      "cell_type": "code",
      "metadata": {
        "id": "mHt4WkM96mAK",
        "colab_type": "code",
        "colab": {}
      },
      "source": [
        "import csv\n",
        "f = open('seoul_temp.csv', encoding = 'cp949')\n",
        "data = csv.reader(f)\n",
        "next(data)\n",
        "result = []\n",
        "\n",
        "for row in data :\n",
        "    if row[-1] != '' :\n",
        "        if row[0].split('-')[1] == '08' :\n",
        "            result.append(float(row[-1]))\n",
        "\n",
        "import matplotlib.pyplot as plt\n",
        "plt.figure(dpi = 300)\n",
        "plt.plot(result, 'hotpink')\n",
        "plt.show()"
      ],
      "execution_count": null,
      "outputs": []
    },
    {
      "cell_type": "code",
      "metadata": {
        "id": "98rBXv2R6mAM",
        "colab_type": "code",
        "colab": {}
      },
      "source": [
        "import csv\n",
        "f = open('seoul_temp.csv', encoding = 'cp949')\n",
        "data = csv.reader(f)\n",
        "next(data)\n",
        "result = []\n",
        "\n",
        "for row in data :\n",
        "    if row[-1] != '' :\n",
        "        if row[0].split('-')[1] == '02' and row[0].split('-')[2] == '14' :\n",
        "            result.append(float(row[-1]))\n",
        "\n",
        "import matplotlib.pyplot as plt\n",
        "plt.figure(dpi = 300)\n",
        "plt.plot(result, 'hotpink')\n",
        "plt.show()"
      ],
      "execution_count": null,
      "outputs": []
    },
    {
      "cell_type": "code",
      "metadata": {
        "id": "Wx8DwJr86mAO",
        "colab_type": "code",
        "colab": {}
      },
      "source": [
        "import csv\n",
        "f = open('seoul_temp.csv', encoding = 'cp949')\n",
        "data = csv.reader(f)\n",
        "next(data)\n",
        "high = []\n",
        "low = []\n",
        "\n",
        "for row in data :\n",
        "    if row[-1] != '' and row[-2] != '' :\n",
        "        if row[0].split('-')[1] == '02' and row[0].split('-')[2] == '14' :\n",
        "            high.append(float(row[-1]))\n",
        "            low.append(float(row[-2]))\n",
        "\n",
        "import matplotlib.pyplot as plt\n",
        "plt.figure(dpi = 300)\n",
        "plt.plot(high, 'hotpink')\n",
        "plt.plot(low, 'skyblue')\n",
        "plt.show()"
      ],
      "execution_count": null,
      "outputs": []
    },
    {
      "cell_type": "code",
      "metadata": {
        "id": "bGy9FfjB6mAQ",
        "colab_type": "code",
        "colab": {}
      },
      "source": [
        "import csv\n",
        "f = open('seoul_temp.csv', encoding = 'cp949')\n",
        "data = csv.reader(f)\n",
        "next(data)\n",
        "high = []\n",
        "low = []\n",
        "\n",
        "for row in data :\n",
        "    if row[-1] != '' and row[-2] != '' :\n",
        "        if 2000 <= int(row[0].split('-')[0]) :\n",
        "            if row[0].split('-')[1] == '02' and row[0].split('-')[2] == '14' :\n",
        "                high.append(float(row[-1]))\n",
        "                low.append(float(row[-2]))\n",
        "\n",
        "import matplotlib.pyplot as plt\n",
        "plt.figure(dpi = 300)\n",
        "plt.plot(high, 'hotpink')\n",
        "plt.plot(low, 'skyblue')\n",
        "plt.show()"
      ],
      "execution_count": null,
      "outputs": []
    },
    {
      "cell_type": "code",
      "metadata": {
        "id": "bw0T_bib6mAS",
        "colab_type": "code",
        "colab": {}
      },
      "source": [
        "#5. 데이터 시각화하기 : 히스토그램(bins 속성)"
      ],
      "execution_count": null,
      "outputs": []
    },
    {
      "cell_type": "code",
      "metadata": {
        "id": "VN7HOuD_6mAV",
        "colab_type": "code",
        "colab": {}
      },
      "source": [
        "import matplotlib.pyplot as plt\n",
        "plt.hist([1,1,1,2,2,2,2,2,2,2,2,2,3,3,3,3,3,4,4,5,5,5,5], bins = 5)\n",
        "plt.show()"
      ],
      "execution_count": null,
      "outputs": []
    },
    {
      "cell_type": "code",
      "metadata": {
        "id": "ypYb6fYP6mAZ",
        "colab_type": "code",
        "colab": {}
      },
      "source": [
        "import random\n",
        "print(random.randint(1,6))"
      ],
      "execution_count": null,
      "outputs": []
    },
    {
      "cell_type": "code",
      "metadata": {
        "id": "hpuzglj_6mAb",
        "colab_type": "code",
        "colab": {}
      },
      "source": [
        "import random\n",
        "for i in range(5) :\n",
        "    print(random.randint(1,6))"
      ],
      "execution_count": null,
      "outputs": []
    },
    {
      "cell_type": "code",
      "metadata": {
        "id": "yKd7KeIq6mAd",
        "colab_type": "code",
        "colab": {}
      },
      "source": [
        "import random\n",
        "dice = []\n",
        "for i in range(5) :\n",
        "    dice.append(random.randint(1,6))\n",
        "print(dice)"
      ],
      "execution_count": null,
      "outputs": []
    },
    {
      "cell_type": "code",
      "metadata": {
        "id": "5RiA2I536mAf",
        "colab_type": "code",
        "colab": {}
      },
      "source": [
        "import random\n",
        "dice = []\n",
        "for i in range(5) :\n",
        "    dice.append(random.randint(1,6))\n",
        "print(dice)\n",
        "\n",
        "import matplotlib.pyplot as plt\n",
        "plt.figure(dpi = 300)\n",
        "plt.hist(dice, bins = 6)\n",
        "plt.show()"
      ],
      "execution_count": null,
      "outputs": []
    },
    {
      "cell_type": "code",
      "metadata": {
        "id": "z7l91BB_6mAh",
        "colab_type": "code",
        "colab": {}
      },
      "source": [
        "import random\n",
        "dice = []\n",
        "for i in range(100) :\n",
        "    dice.append(random.randint(1,6))\n",
        "print(dice)\n",
        "\n",
        "import matplotlib.pyplot as plt\n",
        "plt.figure(dpi = 300)\n",
        "plt.hist(dice, bins = 6)\n",
        "plt.show()"
      ],
      "execution_count": null,
      "outputs": []
    },
    {
      "cell_type": "code",
      "metadata": {
        "id": "iXL2YOAE6mAk",
        "colab_type": "code",
        "colab": {}
      },
      "source": [
        "import random\n",
        "dice = []\n",
        "for i in range(100) :\n",
        "    dice.append(random.randint(1,6))\n",
        "print(dice)\n",
        "\n",
        "import matplotlib.pyplot as plt\n",
        "plt.figure(dpi = 300)\n",
        "plt.hist(dice, bins = 6)\n",
        "plt.show()"
      ],
      "execution_count": null,
      "outputs": []
    },
    {
      "cell_type": "code",
      "metadata": {
        "id": "kjYvH9Oa6mAm",
        "colab_type": "code",
        "colab": {}
      },
      "source": [
        "import random\n",
        "dice = []\n",
        "for i in range(1000000) :\n",
        "    dice.append(random.randint(1,6))\n",
        "\n",
        "import matplotlib.pyplot as plt\n",
        "plt.figure(dpi = 300)\n",
        "plt.hist(dice, bins = 6)\n",
        "plt.show()"
      ],
      "execution_count": null,
      "outputs": []
    },
    {
      "cell_type": "code",
      "metadata": {
        "id": "f5KyKD_i6mAn",
        "colab_type": "code",
        "colab": {}
      },
      "source": [
        "import csv\n",
        "f = open('seoul_temp.csv', encoding = 'cp949')\n",
        "data = csv.reader(f)\n",
        "next(data)\n",
        "result = []\n",
        "\n",
        "for row in data :\n",
        "    if row[-1] != '' :\n",
        "        result.append(float(row[-1]))\n",
        "\n",
        "import matplotlib.pyplot as plt\n",
        "plt.hist(result, bins = 100, color = 'r')\n",
        "plt.show()"
      ],
      "execution_count": null,
      "outputs": []
    },
    {
      "cell_type": "code",
      "metadata": {
        "id": "VI5YCXC_6mAp",
        "colab_type": "code",
        "colab": {}
      },
      "source": [
        "plt.figure(dpi = 300)\n",
        "plt.hist(result, bins = 1000, color = 'r')\n",
        "plt.show()"
      ],
      "execution_count": null,
      "outputs": []
    },
    {
      "cell_type": "code",
      "metadata": {
        "id": "sZzeGL7c6mAr",
        "colab_type": "code",
        "colab": {}
      },
      "source": [
        "import csv\n",
        "f = open('seoul_temp.csv', encoding = 'cp949')\n",
        "data = csv.reader(f)\n",
        "next(data)\n",
        "aug = []\n",
        "\n",
        "for row in data :\n",
        "    month = row[0].split('-')[1]\n",
        "    if row[-1] != '' :\n",
        "        if month == '08':\n",
        "            aug.append(float(row[-1]))\n",
        "\n",
        "import matplotlib.pyplot as plt\n",
        "plt.figure(dpi = 300)\n",
        "plt.hist(aug, bins = 100, color = 'r')\n",
        "plt.show()"
      ],
      "execution_count": null,
      "outputs": []
    },
    {
      "cell_type": "code",
      "metadata": {
        "id": "8i-cztoH6mAu",
        "colab_type": "code",
        "colab": {}
      },
      "source": [
        "import csv\n",
        "f = open('seoul_temp.csv', encoding = 'cp949')\n",
        "data = csv.reader(f)\n",
        "next(data)\n",
        "aug = []\n",
        "jan = []\n",
        "\n",
        "for row in data :\n",
        "    month = row[0].split('-')[1]\n",
        "    if row[-1] != '' :\n",
        "        if month == '08':\n",
        "            aug.append(float(row[-1]))\n",
        "        if month == '01':\n",
        "            jan.append(float(row[-1]))\n",
        "\n",
        "import matplotlib.pyplot as plt\n",
        "plt.figure(dpi = 300)\n",
        "plt.hist(aug, bins = 100, color = 'r', label = 'Aug')\n",
        "plt.hist(jan, bins = 100, color = 'b', label = 'Jan')\n",
        "plt.legend()\n",
        "plt.show()"
      ],
      "execution_count": null,
      "outputs": []
    },
    {
      "cell_type": "code",
      "metadata": {
        "id": "plzgngbM6mAw",
        "colab_type": "code",
        "colab": {}
      },
      "source": [
        "#5. 데이터 시각화하기 : 박스플랏(5가지 통계적 특성 : 최댓값,1사분위,중앙값,3사분위,최솟값)"
      ],
      "execution_count": null,
      "outputs": []
    },
    {
      "cell_type": "code",
      "metadata": {
        "id": "3TSKeqMN6mAy",
        "colab_type": "code",
        "colab": {}
      },
      "source": [
        "import random\n",
        "result = []\n",
        "for i in range(13) :\n",
        "    result.append(random.randint(1,1000))\n",
        "print(sorted(result))\n",
        "# 넘파이는 나중에 배우게 되겠지만, 유용하니 참고만 하세요!\n",
        "import numpy as np\n",
        "result = np.array(result)\n",
        "print(\"1/4: \" + str(np.percentile(result,25)))\n",
        "print(\"2/4: \" + str(np.percentile(result,50)))\n",
        "print(\"3/4: \" + str(np.percentile(result,75)))\n",
        "\n",
        "import matplotlib.pyplot as plt\n",
        "plt.boxplot(result)\n",
        "plt.show()"
      ],
      "execution_count": null,
      "outputs": []
    },
    {
      "cell_type": "code",
      "metadata": {
        "id": "uK2JZZRi6mA0",
        "colab_type": "code",
        "colab": {}
      },
      "source": [
        "import csv\n",
        "f = open('seoul_temp.csv', encoding = 'cp949')\n",
        "data = csv.reader(f)\n",
        "next(data)\n",
        "result = []\n",
        "\n",
        "for row in data :\n",
        "    if row[-1] != '' :\n",
        "        result.append(float(row[-1]))\n",
        "\n",
        "import matplotlib.pyplot as plt\n",
        "plt.boxplot(result)\n",
        "plt.show()"
      ],
      "execution_count": null,
      "outputs": []
    },
    {
      "cell_type": "code",
      "metadata": {
        "id": "OQfo-Ll-6mA1",
        "colab_type": "code",
        "colab": {}
      },
      "source": [
        "import csv\n",
        "f = open('seoul_temp.csv', encoding = 'cp949')\n",
        "data = csv.reader(f)\n",
        "next(data)\n",
        "aug = []\n",
        "jan = []\n",
        "\n",
        "for row in data :\n",
        "    month = row[0].split('-')[1]\n",
        "    if row[-1] != '' :\n",
        "        if month == '08':\n",
        "            aug.append(float(row[-1]))\n",
        "        if month == '01':\n",
        "            jan.append(float(row[-1]))\n",
        "\n",
        "import matplotlib.pyplot as plt\n",
        "plt.boxplot(aug)\n",
        "plt.boxplot(jan)\n",
        "plt.show()"
      ],
      "execution_count": null,
      "outputs": []
    },
    {
      "cell_type": "code",
      "metadata": {
        "id": "frWN7oyj6mA4",
        "colab_type": "code",
        "colab": {}
      },
      "source": [
        "import csv\n",
        "f = open('seoul_temp.csv', encoding = 'cp949')\n",
        "data = csv.reader(f)\n",
        "next(data)\n",
        "aug = []\n",
        "jan = []\n",
        "\n",
        "for row in data :\n",
        "    month = row[0].split('-')[1]\n",
        "    if row[-1] != '' :\n",
        "        if month == '08':\n",
        "            aug.append(float(row[-1]))\n",
        "        if month == '01':\n",
        "            jan.append(float(row[-1]))\n",
        "\n",
        "import matplotlib.pyplot as plt\n",
        "plt.boxplot([aug,jan])\n",
        "plt.show()"
      ],
      "execution_count": null,
      "outputs": []
    },
    {
      "cell_type": "code",
      "metadata": {
        "id": "ceASL5pR6mA6",
        "colab_type": "code",
        "colab": {}
      },
      "source": [
        "import csv\n",
        "f = open('seoul_temp.csv', encoding = 'cp949')\n",
        "data = csv.reader(f)\n",
        "next(data)\n",
        "aug = []\n",
        "jan = []\n",
        "\n",
        "for row in data :\n",
        "    month = row[0].split('-')[1]\n",
        "    if row[-1] != '' :\n",
        "        if month == '08':\n",
        "            aug.append(float(row[-1]))\n",
        "        if month == '01':\n",
        "            jan.append(float(row[-1]))\n",
        "\n",
        "import matplotlib.pyplot as plt\n",
        "plt.figure(dpi = 300)\n",
        "plt.style.use('ggplot')\n",
        "plt.boxplot([aug,jan], showfliers=False) # 아웃라이어 값 제거\n",
        "plt.xticks((1,2), ['Aug','Jan'])\n",
        "plt.show()"
      ],
      "execution_count": null,
      "outputs": []
    },
    {
      "cell_type": "code",
      "metadata": {
        "id": "TWyJMuj46mA8",
        "colab_type": "code",
        "colab": {}
      },
      "source": [
        "import matplotlib.pyplot as plt\n",
        "import csv\n",
        "f = open('seoul_temp.csv', encoding = 'cp949')\n",
        "data = csv.reader(f)\n",
        "next(data)\n",
        "month = [[],[],[],[],[],[],[],[],[],[],[],[]]\n",
        "\n",
        "for row in data :\n",
        "    if row[-1] != '' :\n",
        "        month[int(row[0].split('-')[1])-1].append(float(row[-1]))\n",
        "        \n",
        "plt.figure(figsize=(10,5), dpi=300)\n",
        "plt.boxplot(month, showfliers=False)\n",
        "\n",
        "plt.show()"
      ],
      "execution_count": null,
      "outputs": []
    },
    {
      "cell_type": "code",
      "metadata": {
        "id": "g1Anyhb26mA-",
        "colab_type": "code",
        "colab": {}
      },
      "source": [
        "# 2018년과 2020년 여름 비교하기"
      ],
      "execution_count": null,
      "outputs": []
    },
    {
      "cell_type": "code",
      "metadata": {
        "id": "pbLJ02bt6mBA",
        "colab_type": "code",
        "colab": {}
      },
      "source": [
        "import csv\n",
        "f = open('seoul_temp.csv', encoding = 'cp949')\n",
        "data = csv.reader(f)\n",
        "next(data)\n",
        "summer2018 = []\n",
        "summer2020 = []\n",
        "\n",
        "for row in data :\n",
        "    year = row[0].split('-')[0]\n",
        "    month = row[0].split('-')[1]\n",
        "    if row[-1] != '' :\n",
        "        if month == '07' or month == '08':\n",
        "            if year == '2018' : \n",
        "                summer2018.append(float(row[-1]))\n",
        "            if year == '2020' : \n",
        "                summer2020.append(float(row[-1]))\n",
        "\n",
        "import matplotlib.pyplot as plt\n",
        "plt.figure(dpi = 300)\n",
        "plt.boxplot([summer2018,summer2020])\n",
        "plt.show()"
      ],
      "execution_count": null,
      "outputs": []
    },
    {
      "cell_type": "markdown",
      "metadata": {
        "id": "WsdvPIxp6mBD",
        "colab_type": "text"
      },
      "source": [
        "## 2. 인구데이터(성별 구분 X)"
      ]
    },
    {
      "cell_type": "code",
      "metadata": {
        "id": "Vzs-lZRG6mBD",
        "colab_type": "code",
        "colab": {}
      },
      "source": [
        "#2. 필요한 데이터 선택하기 : in 연산자 사용"
      ],
      "execution_count": null,
      "outputs": []
    },
    {
      "cell_type": "code",
      "metadata": {
        "id": "eBEYHcVG6mBG",
        "colab_type": "code",
        "colab": {}
      },
      "source": [
        "print('신도림' in '서울특별시 구로구 신도림동(1153051000)')\n",
        "print('1153' in '서울특별시 구로구 신도림동(1153051000)')\n",
        "print('()' in '서울특별시 구로구 신도림동(1153051000)')"
      ],
      "execution_count": null,
      "outputs": []
    },
    {
      "cell_type": "code",
      "metadata": {
        "id": "-QtR1iLe6mBI",
        "colab_type": "code",
        "colab": {}
      },
      "source": [
        "import csv\n",
        "f = open('age2007.csv', encoding='cp949')\n",
        "data = csv.reader(f)\n",
        "\n",
        "for row in data :\n",
        "    if '신도림' in row[0] :\n",
        "        print(row)"
      ],
      "execution_count": null,
      "outputs": []
    },
    {
      "cell_type": "code",
      "metadata": {
        "id": "lQLJAH8f6mBJ",
        "colab_type": "code",
        "colab": {}
      },
      "source": [
        "import csv\n",
        "f = open('age2007.csv', encoding='cp949')\n",
        "data = csv.reader(f)\n",
        "\n",
        "for row in data :\n",
        "    if '제주' in row[0] :\n",
        "        print(row)"
      ],
      "execution_count": null,
      "outputs": []
    },
    {
      "cell_type": "code",
      "metadata": {
        "id": "ozvcqoAI6mBL",
        "colab_type": "code",
        "colab": {}
      },
      "source": [
        "import csv\n",
        "f = open('age2007.csv', encoding='cp949')\n",
        "data = csv.reader(f)\n",
        "\n",
        "for row in data :\n",
        "    if '제주' in row[0] :\n",
        "        print(row)\n",
        "        break"
      ],
      "execution_count": null,
      "outputs": []
    },
    {
      "cell_type": "code",
      "metadata": {
        "id": "r0fRtE4s6mBN",
        "colab_type": "code",
        "colab": {}
      },
      "source": [
        "import csv\n",
        "f = open('age2007.csv', encoding='cp949')\n",
        "data = csv.reader(f)\n",
        "\n",
        "for row in data :\n",
        "    if '신도림' in row[0] :\n",
        "        print(len(row[3:]))"
      ],
      "execution_count": null,
      "outputs": []
    },
    {
      "cell_type": "code",
      "metadata": {
        "id": "rTPIREyi6mBQ",
        "colab_type": "code",
        "colab": {}
      },
      "source": [
        "import csv\n",
        "f = open('age2007.csv', encoding='cp949')\n",
        "data = csv.reader(f)\n",
        "result = []\n",
        "for row in data :\n",
        "    if '신도림' in row[0] :\n",
        "        for i in row[3:] :\n",
        "            result.append(i)\n",
        "print(result)"
      ],
      "execution_count": null,
      "outputs": []
    },
    {
      "cell_type": "code",
      "metadata": {
        "id": "3u_bGIl46mBS",
        "colab_type": "code",
        "colab": {}
      },
      "source": [
        "import csv\n",
        "f = open('age2007.csv', encoding='cp949')\n",
        "data = csv.reader(f)\n",
        "result = []\n",
        "for row in data :\n",
        "    if '신도림' in row[0] :\n",
        "        for i in row[3:] :\n",
        "            result.append(int(i))\n",
        "print(result)"
      ],
      "execution_count": null,
      "outputs": []
    },
    {
      "cell_type": "code",
      "metadata": {
        "id": "ONhkqlxG6mBU",
        "colab_type": "code",
        "colab": {}
      },
      "source": [
        "import csv\n",
        "f = open('age2007.csv', encoding='cp949')\n",
        "data = csv.reader(f)\n",
        "result = []\n",
        "for row in data :\n",
        "    if '신도림동' in row[0] :\n",
        "        for i in row[3:] :\n",
        "            result.append(int(i))\n",
        "            \n",
        "import matplotlib.pyplot as plt\n",
        "plt.plot(result)\n",
        "plt.show()"
      ],
      "execution_count": null,
      "outputs": []
    },
    {
      "cell_type": "code",
      "metadata": {
        "id": "woHyNhgV6mBY",
        "colab_type": "code",
        "colab": {}
      },
      "source": [
        "#5. 데이터 시각화하기 : 막대그래프(바플랏) - x축, y축 데이터 모두 명시해야 함!"
      ],
      "execution_count": null,
      "outputs": []
    },
    {
      "cell_type": "code",
      "metadata": {
        "id": "ujvP390D6mBZ",
        "colab_type": "code",
        "colab": {}
      },
      "source": [
        "import matplotlib.pyplot as plt\n",
        "plt.bar([1,2,3,5,6,7])\n",
        "plt.show()"
      ],
      "execution_count": null,
      "outputs": []
    },
    {
      "cell_type": "code",
      "metadata": {
        "id": "WQN_5Xqy6mBb",
        "colab_type": "code",
        "colab": {}
      },
      "source": [
        "import matplotlib.pyplot as plt\n",
        "plt.figure(figsize = (10,5), dpi=300)            \n",
        "plt.bar([0,1,2,4,6,10], [1,2,3,5,6,7])\n",
        "plt.show()"
      ],
      "execution_count": null,
      "outputs": []
    },
    {
      "cell_type": "code",
      "metadata": {
        "id": "mjs98-936mBd",
        "colab_type": "code",
        "colab": {}
      },
      "source": [
        "import matplotlib.pyplot as plt\n",
        "plt.figure(figsize = (10,5), dpi=300)            \n",
        "plt.bar(range(6), [1,2,3,5,6,7])\n",
        "plt.show()"
      ],
      "execution_count": null,
      "outputs": []
    },
    {
      "cell_type": "code",
      "metadata": {
        "id": "J4LXyXDH6mBf",
        "colab_type": "code",
        "colab": {}
      },
      "source": [
        "import csv\n",
        "f = open('age2007.csv', encoding='cp949')\n",
        "data = csv.reader(f)\n",
        "\n",
        "result = []\n",
        "for row in data :\n",
        "    if '신도림' in row[0] :\n",
        "        for i in row[3:] :\n",
        "            result.append(int(i))\n",
        "            \n",
        "import matplotlib.pyplot as plt\n",
        "plt.figure(figsize = (10,5), dpi=300)            \n",
        "plt.bar(range(101), result)\n",
        "plt.show()"
      ],
      "execution_count": null,
      "outputs": []
    },
    {
      "cell_type": "markdown",
      "metadata": {
        "id": "CO93cST66mBh",
        "colab_type": "text"
      },
      "source": [
        "## 3. 인구데이터(성별 구분 O)"
      ]
    },
    {
      "cell_type": "code",
      "metadata": {
        "id": "InGgIJoC6mBh",
        "colab_type": "code",
        "colab": {
          "base_uri": "https://localhost:8080/",
          "height": 55
        },
        "outputId": "34f7e478-c0d9-4375-a260-d0f85c606de3"
      },
      "source": [
        "import csv\n",
        "f = open('age_gender.csv', encoding = 'cp949')\n",
        "data = csv.reader(f)\n",
        "\n",
        "m = []\n",
        "f = []\n",
        "for row in data :\n",
        "    if '신도림' in row[0] :\n",
        "        for i in row[3:104] :\n",
        "            m.append(int(i))\n",
        "        for i in row[106:] :\n",
        "            f.append(int(i))\n",
        "            \n",
        "print(len(m))\n",
        "print(len(f))"
      ],
      "execution_count": null,
      "outputs": [
        {
          "output_type": "stream",
          "text": [
            "101\n",
            "101\n"
          ],
          "name": "stdout"
        }
      ]
    },
    {
      "cell_type": "code",
      "metadata": {
        "id": "hlGB0cEk6mBj",
        "colab_type": "code",
        "colab": {}
      },
      "source": [
        "#5. 데이터 시각화하기 : 수평막대그래프(barh) - x축, y축 데이터 모두 명시해야 함!"
      ],
      "execution_count": null,
      "outputs": []
    },
    {
      "cell_type": "code",
      "metadata": {
        "id": "4zHZmkps6mBl",
        "colab_type": "code",
        "colab": {}
      },
      "source": [
        "import matplotlib.pyplot as plt\n",
        "plt.style.use('ggplot')\n",
        "plt.figure(figsize = (10,5), dpi=300)            \n",
        "plt.barh(range(101), m)\n",
        "plt.barh(range(101), f)\n",
        "plt.show()"
      ],
      "execution_count": null,
      "outputs": []
    },
    {
      "cell_type": "code",
      "metadata": {
        "id": "ROhL9Ded6mBo",
        "colab_type": "code",
        "colab": {}
      },
      "source": [
        "import csv\n",
        "f = open('age_gender.csv', encoding = 'cp949')\n",
        "data = csv.reader(f)\n",
        "\n",
        "m = []\n",
        "f = []\n",
        "for row in data :\n",
        "    if '신도림' in row[0] :\n",
        "        for i in row[3:104] :\n",
        "            m.append(-int(i))\n",
        "        for i in row[106:] :\n",
        "            f.append(int(i))\n",
        "            \n",
        "print(len(m))\n",
        "print(len(f))"
      ],
      "execution_count": null,
      "outputs": []
    },
    {
      "cell_type": "code",
      "metadata": {
        "id": "9d9cN8Oq6mBp",
        "colab_type": "code",
        "colab": {}
      },
      "source": [
        "import matplotlib.pyplot as plt\n",
        "plt.style.use('ggplot') # 참고만 하세요! 외울 필요 전혀 없습니다!!\n",
        "plt.figure(figsize = (10,5), dpi=300) # 참고만 하세요! 외울 필요 전혀 없습니다!!\n",
        "plt.rc('font', family = 'NanumGothic') # 참고만 하세요! 외울 필요 전혀 없습니다!!\n",
        "plt.rcParams['axes.unicode_minus'] = False # 참고만 하세요! 외울 필요 전혀 없습니다!!\n",
        "plt.title('신도림 지역의 남녀 성별 인구 분포')\n",
        "plt.barh(range(101), m, label = '남성')\n",
        "plt.barh(range(101), f, label = '여성')\n",
        "plt.legend() # 참고만 하세요! 외울 필요 전혀 없습니다!!\n",
        "plt.show()"
      ],
      "execution_count": null,
      "outputs": []
    },
    {
      "cell_type": "code",
      "metadata": {
        "id": "o4wR6CAl6mBq",
        "colab_type": "code",
        "colab": {}
      },
      "source": [
        ""
      ],
      "execution_count": null,
      "outputs": []
    }
  ]
}