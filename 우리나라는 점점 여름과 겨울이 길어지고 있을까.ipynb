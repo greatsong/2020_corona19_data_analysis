{
 "cells": [
  {
   "cell_type": "markdown",
   "metadata": {},
   "source": [
    "https://data.kma.go.kr/climate/heatWave/selectHeatWaveDmap.do?pgmNo=106  \n",
    "폭염일수 그래프로 확인해보기"
   ]
  },
  {
   "cell_type": "code",
   "execution_count": 2,
   "metadata": {},
   "outputs": [
    {
     "name": "stdout",
     "output_type": "stream",
     "text": [
      "['1907-10-01', '108', '13.5', '7.9', '20.7']\n"
     ]
    }
   ],
   "source": [
    "import csv\n",
    "data = csv.reader(open('ta_20200721103344.csv', encoding = 'cp949'))\n",
    "\n",
    "for row in data : \n",
    "    print(row)\n",
    "    break"
   ]
  },
  {
   "cell_type": "code",
   "execution_count": 5,
   "metadata": {},
   "outputs": [
    {
     "name": "stdout",
     "output_type": "stream",
     "text": [
      "611 793\n"
     ]
    }
   ],
   "source": [
    "import csv\n",
    "data = csv.reader(open('ta_20200721103344.csv', encoding = 'cp949'))\n",
    "summer20 = 0\n",
    "summer21 = 0\n",
    "winter20 = 0\n",
    "winter21 = 0\n",
    "\n",
    "for row in data : \n",
    "    date = row[0].split('-')\n",
    "    year = int(date[0])\n",
    "    if row[-1] == '' :\n",
    "        row[-1] = 0\n",
    "    if 1980 <= year < 2000 and float(row[-1]) > 30 :\n",
    "        summer20 += 1\n",
    "    elif 2000 <= year < 2020 and float(row[-1]) > 30 :\n",
    "        summer21 += 1\n",
    "print(summer20, summer21)"
   ]
  },
  {
   "cell_type": "code",
   "execution_count": 6,
   "metadata": {},
   "outputs": [
    {
     "name": "stdout",
     "output_type": "stream",
     "text": [
      "{1960: 620, 1980: 611, 2000: 793}\n"
     ]
    }
   ],
   "source": [
    "import csv\n",
    "data = csv.reader(open('ta_20200721103344.csv', encoding = 'cp949'))\n",
    "\n",
    "gap = [1960,1980,2000]\n",
    "result = {1960:0, 1980:0, 2000:0}\n",
    "\n",
    "for row in data : \n",
    "    date = row[0].split('-')\n",
    "    year = int(date[0])\n",
    "    if row[-1] == '' :\n",
    "        row[-1] = 0\n",
    "    for i in gap : \n",
    "        if i <= year < i + 20 and float(row[-1]) > 30 :\n",
    "            result[i] += 1\n",
    "            \n",
    "print(result)"
   ]
  },
  {
   "cell_type": "code",
   "execution_count": 7,
   "metadata": {},
   "outputs": [
    {
     "name": "stdout",
     "output_type": "stream",
     "text": [
      "{1960: 332, 1970: 288, 1980: 259, 1990: 352, 2000: 324}\n"
     ]
    }
   ],
   "source": [
    "import csv\n",
    "data = csv.reader(open('ta_20200721103344.csv', encoding = 'cp949'))\n",
    "\n",
    "gap = [1960,1970,1980,1990,2000]\n",
    "result = {1960:0, 1970:0, 1980:0, 1990:0, 2000:0}\n",
    "\n",
    "for row in data : \n",
    "    date = row[0].split('-')\n",
    "    year = int(date[0])\n",
    "    if row[-1] == '' :\n",
    "        row[-1] = 0\n",
    "    for i in gap : \n",
    "        if i <= year < i + 10 and float(row[-1]) > 30 :\n",
    "            result[i] += 1\n",
    "            \n",
    "print(result)"
   ]
  },
  {
   "cell_type": "code",
   "execution_count": null,
   "metadata": {},
   "outputs": [],
   "source": []
  },
  {
   "cell_type": "code",
   "execution_count": 10,
   "metadata": {},
   "outputs": [
    {
     "name": "stdout",
     "output_type": "stream",
     "text": [
      "{1980: 6, 1981: 29, 1982: 30, 1983: 24, 1984: 39, 1985: 36, 1986: 15, 1987: 15, 1988: 34, 1989: 31, 1990: 33, 1991: 30, 1992: 27, 1993: 13, 1994: 54, 1995: 24, 1996: 33, 1997: 58, 1998: 33, 1999: 47, 2000: 52, 2001: 56, 2002: 19, 2003: 16, 2004: 35, 2005: 30, 2006: 27, 2007: 35, 2008: 30, 2009: 24, 2010: 44, 2011: 36, 2012: 41, 2013: 48, 2014: 40, 2015: 57, 2016: 56, 2017: 50, 2018: 54, 2019: 43}\n"
     ]
    }
   ],
   "source": [
    "import csv\n",
    "data = csv.reader(open('ta_20200721103344.csv', encoding = 'cp949'))\n",
    "result = {}\n",
    "for i in range(1980,2020) : \n",
    "    result[i] = 0 \n",
    "\n",
    "for row in data : \n",
    "    date = row[0].split('-')\n",
    "    year = int(date[0])\n",
    "    if row[-1] == '' :\n",
    "        row[-1] = 0\n",
    "    if 1980 <= year < 2020 and float(row[-1]) > 30 :\n",
    "        result[year] += 1\n",
    "print(result)"
   ]
  },
  {
   "cell_type": "code",
   "execution_count": 17,
   "metadata": {},
   "outputs": [
    {
     "data": {
      "text/plain": [
       "<BarContainer object of 40 artists>"
      ]
     },
     "execution_count": 17,
     "metadata": {},
     "output_type": "execute_result"
    },
    {
     "data": {
      "image/png": "[encoded data removed]",
      "text/plain": [
       "<Figure size 432x288 with 1 Axes>"
      ]
     },
     "metadata": {
      "needs_background": "light"
     },
     "output_type": "display_data"
    }
   ],
   "source": [
    "import matplotlib.pyplot as plt\n",
    "plt.bar(result.keys(), result.values())\n",
    "plt.show()"
   ]
  },
  {
   "cell_type": "code",
   "execution_count": 18,
   "metadata": {},
   "outputs": [
    {
     "data": {
      "image/png": "[encoded data removed]",
      "text/plain": [
       "<Figure size 432x288 with 1 Axes>"
      ]
     },
     "metadata": {
      "needs_background": "light"
     },
     "output_type": "display_data"
    }
   ],
   "source": [
    "import csv\n",
    "data = csv.reader(open('ta_20200721103344.csv', encoding = 'cp949'))\n",
    "result = {}\n",
    "for i in range(1960,2020) : \n",
    "    result[i] = 0 \n",
    "\n",
    "for row in data : \n",
    "    date = row[0].split('-')\n",
    "    year = int(date[0])\n",
    "    if row[-1] == '' :\n",
    "        row[-1] = 0\n",
    "    if 1960 <= year < 2020 and float(row[-1]) > 30 :\n",
    "        result[year] += 1\n",
    "import matplotlib.pyplot as plt\n",
    "plt.bar(result.keys(), result.values())\n",
    "plt.show()"
   ]
  },
  {
   "cell_type": "code",
   "execution_count": 19,
   "metadata": {},
   "outputs": [
    {
     "data": {
      "image/png": "[encoded data removed]",
      "text/plain": [
       "<Figure size 432x288 with 1 Axes>"
      ]
     },
     "metadata": {
      "needs_background": "light"
     },
     "output_type": "display_data"
    }
   ],
   "source": [
    "import csv\n",
    "data = csv.reader(open('ta_20200721103344.csv', encoding = 'cp949'))\n",
    "result = {}\n",
    "for i in range(1960,2020) : \n",
    "    result[i] = 0 \n",
    "\n",
    "for row in data : \n",
    "    date = row[0].split('-')\n",
    "    year = int(date[0])\n",
    "    if row[-1] == '' :\n",
    "        row[-1] = 0\n",
    "    if 1960 <= year < 2020 and float(row[-1]) > 33 :\n",
    "        result[year] += 1\n",
    "        \n",
    "import matplotlib.pyplot as plt\n",
    "plt.bar(result.keys(), result.values())\n",
    "plt.show()"
   ]
  },
  {
   "cell_type": "code",
   "execution_count": 20,
   "metadata": {},
   "outputs": [
    {
     "data": {
      "image/png": "[encoded data removed]",
      "text/plain": [
       "<Figure size 432x288 with 1 Axes>"
      ]
     },
     "metadata": {
      "needs_background": "light"
     },
     "output_type": "display_data"
    }
   ],
   "source": [
    "import csv\n",
    "data = csv.reader(open('ta_20200721103344.csv', encoding = 'cp949'))\n",
    "result = {}\n",
    "for i in range(1960,2020) : \n",
    "    result[i] = 0 \n",
    "\n",
    "for row in data : \n",
    "    date = row[0].split('-')\n",
    "    year = int(date[0])\n",
    "    if row[-1] == '' :\n",
    "        row[-1] = 0\n",
    "    if 1960 <= year < 2020 and 15 < float(row[-1]) < 25 :\n",
    "        result[year] += 1\n",
    "        \n",
    "import matplotlib.pyplot as plt\n",
    "plt.bar(result.keys(), result.values())\n",
    "plt.show()"
   ]
  },
  {
   "cell_type": "code",
   "execution_count": 22,
   "metadata": {},
   "outputs": [
    {
     "data": {
      "image/png": "[encoded data removed]",
      "text/plain": [
       "<Figure size 432x288 with 1 Axes>"
      ]
     },
     "metadata": {
      "needs_background": "light"
     },
     "output_type": "display_data"
    }
   ],
   "source": [
    "import csv\n",
    "data = csv.reader(open('ta_20200721103344.csv', encoding = 'cp949'))\n",
    "result = {}\n",
    "for i in range(1960,2020) : \n",
    "    result[i] = 0 \n",
    "\n",
    "for row in data : \n",
    "    date = row[0].split('-')\n",
    "    year = int(date[0])\n",
    "    if row[-2] == '' :\n",
    "        row[-2] = 0\n",
    "    if 1960 <= year < 2020 and  float(row[-2]) < -5 :\n",
    "        result[year] += 1\n",
    "        \n",
    "import matplotlib.pyplot as plt\n",
    "plt.bar(result.keys(), result.values())\n",
    "plt.show()"
   ]
  },
  {
   "cell_type": "code",
   "execution_count": null,
   "metadata": {},
   "outputs": [],
   "source": []
  }
 ],
 "metadata": {
  "kernelspec": {
   "display_name": "Python 3",
   "language": "python",
   "name": "python3"
  },
  "language_info": {
   "codemirror_mode": {
    "name": "ipython",
    "version": 3
   },
   "file_extension": ".py",
   "mimetype": "text/x-python",
   "name": "python",
   "nbconvert_exporter": "python",
   "pygments_lexer": "ipython3",
   "version": "3.7.6"
  }
 },
 "nbformat": 4,
 "nbformat_minor": 4
}
