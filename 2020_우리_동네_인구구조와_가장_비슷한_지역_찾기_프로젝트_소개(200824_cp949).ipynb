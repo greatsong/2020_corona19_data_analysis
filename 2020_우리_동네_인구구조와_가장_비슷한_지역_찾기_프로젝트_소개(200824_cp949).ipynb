{
  "nbformat": 4,
  "nbformat_minor": 0,
  "metadata": {
    "kernelspec": {
      "display_name": "Python 3",
      "language": "python",
      "name": "python3"
    },
    "language_info": {
      "codemirror_mode": {
        "name": "ipython",
        "version": 3
      },
      "file_extension": ".py",
      "mimetype": "text/x-python",
      "name": "python",
      "nbconvert_exporter": "python",
      "pygments_lexer": "ipython3",
      "version": "3.7.6"
    },
    "colab": {
      "name": "2020 우리 동네 인구구조와 가장 비슷한 지역 찾기 프로젝트 소개(200824_cp949).ipynb의 사본",
      "provenance": [],
      "include_colab_link": true
    }
  },
  "cells": [
    {
      "cell_type": "markdown",
      "metadata": {
        "id": "view-in-github",
        "colab_type": "text"
      },
      "source": [
        "<a href=\"https://colab.research.google.com/github/greatsong/2020_public_data_analysis/blob/master/2020_%EC%9A%B0%EB%A6%AC_%EB%8F%99%EB%84%A4_%EC%9D%B8%EA%B5%AC%EA%B5%AC%EC%A1%B0%EC%99%80_%EA%B0%80%EC%9E%A5_%EB%B9%84%EC%8A%B7%ED%95%9C_%EC%A7%80%EC%97%AD_%EC%B0%BE%EA%B8%B0_%ED%94%84%EB%A1%9C%EC%A0%9D%ED%8A%B8_%EC%86%8C%EA%B0%9C(200824_cp949).ipynb\" target=\"_parent\"><img src=\"https://colab.research.google.com/assets/colab-badge.svg\" alt=\"Open In Colab\"/></a>"
      ]
    },
    {
      "cell_type": "code",
      "metadata": {
        "id": "QwXs7M2cqVzQ",
        "colab_type": "code",
        "colab": {
          "base_uri": "https://localhost:8080/",
          "height": 125
        },
        "outputId": "bd6610d8-86ad-4d62-f5e9-aa07fb5d98a2"
      },
      "source": [
        "!git clone https://github.com/greatsong/2020_public_data_analysis"
      ],
      "execution_count": null,
      "outputs": [
        {
          "output_type": "stream",
          "text": [
            "Cloning into '2020_public_data_analysis'...\n",
            "remote: Enumerating objects: 61, done.\u001b[K\n",
            "remote: Counting objects: 100% (61/61), done.\u001b[K\n",
            "remote: Compressing objects: 100% (61/61), done.\u001b[K\n",
            "remote: Total 61 (delta 24), reused 0 (delta 0), pack-reused 0\u001b[K\n",
            "Unpacking objects: 100% (61/61), done.\n"
          ],
          "name": "stdout"
        }
      ]
    },
    {
      "cell_type": "code",
      "metadata": {
        "id": "5e7_AnhgqblS",
        "colab_type": "code",
        "colab": {
          "base_uri": "https://localhost:8080/",
          "height": 35
        },
        "outputId": "1cc4e340-f8e4-4396-c179-e46b4e0293e5"
      },
      "source": [
        "cd 2020_public_data_analysis"
      ],
      "execution_count": null,
      "outputs": [
        {
          "output_type": "stream",
          "text": [
            "/content/2020_public_data_analysis\n"
          ],
          "name": "stdout"
        }
      ]
    },
    {
      "cell_type": "code",
      "metadata": {
        "id": "PFPuIoXcqcOe",
        "colab_type": "code",
        "colab": {
          "base_uri": "https://localhost:8080/",
          "height": 269
        },
        "outputId": "61e4c39a-fe9d-42b8-9c15-95e3b80a4ca9"
      },
      "source": [
        "!apt -qq -y install fonts-nanum"
      ],
      "execution_count": null,
      "outputs": [
        {
          "output_type": "stream",
          "text": [
            "The following package was automatically installed and is no longer required:\n",
            "  libnvidia-common-440\n",
            "Use 'apt autoremove' to remove it.\n",
            "The following NEW packages will be installed:\n",
            "  fonts-nanum\n",
            "0 upgraded, 1 newly installed, 0 to remove and 39 not upgraded.\n",
            "Need to get 9,604 kB of archives.\n",
            "After this operation, 29.5 MB of additional disk space will be used.\n",
            "Selecting previously unselected package fonts-nanum.\n",
            "(Reading database ... 144579 files and directories currently installed.)\n",
            "Preparing to unpack .../fonts-nanum_20170925-1_all.deb ...\n",
            "Unpacking fonts-nanum (20170925-1) ...\n",
            "Setting up fonts-nanum (20170925-1) ...\n",
            "Processing triggers for fontconfig (2.12.6-0ubuntu2) ...\n"
          ],
          "name": "stdout"
        }
      ]
    },
    {
      "cell_type": "code",
      "metadata": {
        "id": "DiVY1i4vqd4X",
        "colab_type": "code",
        "colab": {}
      },
      "source": [
        "import matplotlib.pyplot as plt\n",
        "import matplotlib.font_manager as fm\n",
        "\n",
        "fontpath = '/usr/share/fonts/truetype/nanum/NanumGothic.ttf'\n",
        "font = fm.FontProperties(fname=fontpath, size=10)\n",
        "fm._rebuild()"
      ],
      "execution_count": null,
      "outputs": []
    },
    {
      "cell_type": "code",
      "metadata": {
        "id": "SrUuegb5qeVH",
        "colab_type": "code",
        "colab": {}
      },
      "source": [
        "# 위 코드 실행 후 [메뉴] - [런타임] - [런타임 다시 시작] - [예]"
      ],
      "execution_count": null,
      "outputs": []
    },
    {
      "cell_type": "code",
      "metadata": {
        "id": "QH2Sc5SmqzPv",
        "colab_type": "code",
        "colab": {
          "base_uri": "https://localhost:8080/",
          "height": 35
        },
        "outputId": "27107b78-400e-400a-be5e-4601e89e83e2"
      },
      "source": [
        "cd 2020_public_data_analysis"
      ],
      "execution_count": null,
      "outputs": [
        {
          "output_type": "stream",
          "text": [
            "/content/2020_public_data_analysis\n"
          ],
          "name": "stdout"
        }
      ]
    },
    {
      "cell_type": "markdown",
      "metadata": {
        "id": "uf1U3xkhqTZT",
        "colab_type": "text"
      },
      "source": [
        "## #0. 어떤 과정을 거치면 우리 동네 인구구조와 가장 비슷한 지역을 찾을 수 있을까?\n",
        "### 1) 계획대로 한 번에 완성되는 경우는 아주 아주 드물다(없다고 보면 된다)\n",
        "### 2) 일단 가장 기본적인 부분(minimum viable product)부터 작게 만들어보고 점점 확대시켜나가는 것이 일반적\n",
        "### 3) trial & error를 통해 배우며 성장하는 것이 핵심"
      ]
    },
    {
      "cell_type": "markdown",
      "metadata": {
        "id": "pcPlMoRPqTZT",
        "colab_type": "text"
      },
      "source": [
        "## #1. '신도림' 이라는 이름이 포함된 지역의 인구 구조 그래프 그리기"
      ]
    },
    {
      "cell_type": "code",
      "metadata": {
        "id": "2ANiEDJSqTZU",
        "colab_type": "code",
        "colab": {}
      },
      "source": [
        "import csv\n",
        "f = open('age2007.csv', encoding = 'cp949')\n",
        "\n",
        "data = csv.reader(f)\n",
        "result = []\n",
        "for row in data :\n",
        "    if '신도림' in row[0] :\n",
        "        for i in range(3,len(row)) : \n",
        "            result.append(int(row[i]))\n",
        "            \n",
        "import matplotlib.pyplot as plt\n",
        "plt.plot(result)\n",
        "plt.show()"
      ],
      "execution_count": null,
      "outputs": []
    },
    {
      "cell_type": "markdown",
      "metadata": {
        "id": "TZSGGuJgqTZW",
        "colab_type": "text"
      },
      "source": [
        "## #2. 다른 지역과의 비교를 위해 비율로 표현하기"
      ]
    },
    {
      "cell_type": "code",
      "metadata": {
        "id": "MTIFpNMoqTZX",
        "colab_type": "code",
        "colab": {}
      },
      "source": [
        "import csv\n",
        "f = open('age2007.csv', encoding = 'cp949')\n",
        "\n",
        "data = csv.reader(f)\n",
        "result = []\n",
        "for row in data :\n",
        "    if '신도림' in row[0] :\n",
        "        for i in range(3,len(row)) : \n",
        "            result.append(int(row[i])/int(row[2]))\n",
        "            \n",
        "import matplotlib.pyplot as plt\n",
        "plt.plot(result)\n",
        "plt.show()"
      ],
      "execution_count": null,
      "outputs": []
    },
    {
      "cell_type": "markdown",
      "metadata": {
        "id": "-a2ylo-vqTZZ",
        "colab_type": "text"
      },
      "source": [
        "## #3. 데이터의 재사용을 위해 list 형태로 만들기(feat. next(data))"
      ]
    },
    {
      "cell_type": "code",
      "metadata": {
        "id": "li6T1usgqTZZ",
        "colab_type": "code",
        "colab": {}
      },
      "source": [
        "import csv\n",
        "f = open('age2007.csv', encoding = 'cp949')\n",
        "\n",
        "data = csv.reader(f)\n",
        "next(data)\n",
        "next(data)\n",
        "data = list(data)"
      ],
      "execution_count": null,
      "outputs": []
    },
    {
      "cell_type": "markdown",
      "metadata": {
        "id": "vsHNjaAvqTZb",
        "colab_type": "text"
      },
      "source": [
        "## #4. $$s = \\sum 기준 지역의 해당 연령값 - 각 지역의 해당 연령값$$"
      ]
    },
    {
      "cell_type": "code",
      "metadata": {
        "id": "Xr56a-uWqTZb",
        "colab_type": "code",
        "colab": {}
      },
      "source": [
        "import csv\n",
        "f = open('age2007.csv', encoding = 'cp949')\n",
        "\n",
        "data = csv.reader(f)\n",
        "next(data)\n",
        "next(data)\n",
        "data = list(data)\n",
        "pivot = []\n",
        "for row in data :\n",
        "    if '신도림' in row[0] :\n",
        "        for i in range(3,len(row)) : \n",
        "            pivot.append(int(row[i])/int(row[2]))\n",
        "mn = 10000000\n",
        "\n",
        "for row in data :\n",
        "    s = 0\n",
        "    for i in range(3, len(row)) :\n",
        "        tmp = int(row[i]) - pivot[i-3]\n",
        "        s = s + tmp\n",
        "    if s < mn :\n",
        "        result = []\n",
        "        for i in range(3, len(row)) :\n",
        "            result.append(int(row[i])/int(row[2]))\n",
        "            \n",
        "            \n",
        "import matplotlib.pyplot as plt\n",
        "plt.plot(pivot)\n",
        "plt.plot(result)\n",
        "plt.show()"
      ],
      "execution_count": null,
      "outputs": []
    },
    {
      "cell_type": "markdown",
      "metadata": {
        "id": "NW1nkPHTqTZd",
        "colab_type": "text"
      },
      "source": [
        "## #5. $$s = \\sum (기준 지역의 해당 연령값 - 각 지역의 해당 연령값) ^2 $$"
      ]
    },
    {
      "cell_type": "code",
      "metadata": {
        "id": "RZ-baKgYqTZe",
        "colab_type": "code",
        "colab": {}
      },
      "source": [
        "import csv\n",
        "f = open('age2007.csv', encoding = 'cp949')\n",
        "\n",
        "data = csv.reader(f)\n",
        "next(data)\n",
        "next(data)\n",
        "data = list(data)\n",
        "pivot = []\n",
        "for row in data :\n",
        "    if '신도림' in row[0] :\n",
        "        for i in range(3,len(row)) : \n",
        "            pivot.append(int(row[i])/int(row[2]))\n",
        "mn = 1\n",
        "\n",
        "for row in data :\n",
        "    s = 0\n",
        "    for i in range(3, len(row)) :\n",
        "        row[i] = int(row[i])/int(row[2])\n",
        "        tmp = (row[i] - pivot[i-3]) ** 2\n",
        "        s = s + tmp\n",
        "    if s < mn :\n",
        "        result = []\n",
        "        for i in range(3, len(row)) :\n",
        "            result.append(row[i])\n",
        "        mn = s\n",
        "            \n",
        "import matplotlib.pyplot as plt\n",
        "plt.plot(pivot)\n",
        "plt.plot(result)\n",
        "plt.show()"
      ],
      "execution_count": null,
      "outputs": []
    },
    {
      "cell_type": "markdown",
      "metadata": {
        "id": "TKNtXvQCqTZg",
        "colab_type": "text"
      },
      "source": [
        "## #6. '신도림동'을 제외한 결과 출력하기"
      ]
    },
    {
      "cell_type": "code",
      "metadata": {
        "id": "Ug245Ff-qTZg",
        "colab_type": "code",
        "colab": {}
      },
      "source": [
        "import csv\n",
        "f = open('age2007.csv', encoding = 'cp949')\n",
        "\n",
        "data = csv.reader(f)\n",
        "next(data)\n",
        "next(data)\n",
        "data = list(data)\n",
        "pivot = []\n",
        "\n",
        "for row in data :\n",
        "    if '신도림' in row[0] :\n",
        "        for i in range(3,len(row)) : \n",
        "            pivot.append(int(row[i])/int(row[2]))\n",
        "mn = 1\n",
        "\n",
        "for row in data :\n",
        "    s = 0\n",
        "    for i in range(3, len(row)) :\n",
        "        row[i] = int(row[i])/int(row[2])\n",
        "        tmp = (row[i] - pivot[i-3]) ** 2\n",
        "        s = s + tmp\n",
        "    if s < mn and ('신도림동' not in row[0]) :\n",
        "        result = []\n",
        "        for i in range(3, len(row)) :\n",
        "            result.append(row[i])\n",
        "        mn = s\n",
        "        print(s)\n",
        "            \n",
        "            \n",
        "import matplotlib.pyplot as plt\n",
        "plt.plot(pivot)\n",
        "plt.plot(result)\n",
        "plt.show()"
      ],
      "execution_count": null,
      "outputs": []
    },
    {
      "cell_type": "markdown",
      "metadata": {
        "id": "LEM3Dg0YqTZi",
        "colab_type": "text"
      },
      "source": [
        "## #7. 궁금한 지역의 이름 입력하기"
      ]
    },
    {
      "cell_type": "code",
      "metadata": {
        "id": "3OQ_sPTGqTZj",
        "colab_type": "code",
        "colab": {}
      },
      "source": [
        "import csv\n",
        "f = open('age2007.csv', encoding = 'cp949')\n",
        "\n",
        "data = csv.reader(f)\n",
        "next(data)\n",
        "next(data)\n",
        "data = list(data)\n",
        "pivot = []\n",
        "\n",
        "name = input('궁금한 지역 이름을 입력해주세요 : ')\n",
        "\n",
        "for row in data :\n",
        "    if name in row[0] :\n",
        "        for i in range(3,len(row)) : \n",
        "            pivot.append(int(row[i])/int(row[2]))\n",
        "mn = 1\n",
        "\n",
        "for row in data :\n",
        "    s = 0\n",
        "    for i in range(3, len(row)) :\n",
        "        row[i] = int(row[i])/int(row[2])\n",
        "        tmp = (row[i] - pivot[i-3]) ** 2\n",
        "        s = s + tmp\n",
        "    if s < mn and (name not in row[0]) :\n",
        "        result = []\n",
        "        for i in range(3, len(row)) :\n",
        "            result.append(row[i])\n",
        "        mn = s            \n",
        "            \n",
        "import matplotlib.pyplot as plt\n",
        "plt.plot(pivot)\n",
        "plt.plot(result)\n",
        "plt.show()"
      ],
      "execution_count": null,
      "outputs": []
    },
    {
      "cell_type": "markdown",
      "metadata": {
        "id": "4Nq6Qbs4qTZl",
        "colab_type": "text"
      },
      "source": [
        "## #8. 범례 추가하기"
      ]
    },
    {
      "cell_type": "code",
      "metadata": {
        "id": "S6MlAuMIqTZl",
        "colab_type": "code",
        "colab": {}
      },
      "source": [
        "import csv\n",
        "f = open('age2007.csv', encoding = 'cp949')\n",
        "\n",
        "data = csv.reader(f)\n",
        "next(data)\n",
        "next(data)\n",
        "data = list(data)\n",
        "pivot = []\n",
        "\n",
        "name = input('궁금한 지역 이름을 입력해주세요 : ')\n",
        "\n",
        "for row in data :\n",
        "    if name in row[0] :\n",
        "        for i in range(3,len(row)) : \n",
        "            pivot.append(int(row[i])/int(row[2]))\n",
        "mn = 1\n",
        "\n",
        "for row in data :\n",
        "    s = 0\n",
        "    for i in range(3, len(row)) :\n",
        "        row[i] = int(row[i])/int(row[2])\n",
        "        tmp = (row[i] - pivot[i-3]) ** 2\n",
        "        s = s + tmp\n",
        "    if s < mn and (name not in row[0]) :\n",
        "        result = []\n",
        "        for i in range(3, len(row)) :\n",
        "            result.append(row[i])\n",
        "        mn = s            \n",
        "        result_name = row[0]\n",
        "            \n",
        "import matplotlib.pyplot as plt\n",
        "plt.plot(pivot, label = name)\n",
        "plt.plot(result, label = result_name)\n",
        "plt.legend()\n",
        "plt.show()"
      ],
      "execution_count": null,
      "outputs": []
    },
    {
      "cell_type": "markdown",
      "metadata": {
        "id": "Ow2P9dlrqTZn",
        "colab_type": "text"
      },
      "source": [
        "## #9. 한글 폰트 추가하기"
      ]
    },
    {
      "cell_type": "code",
      "metadata": {
        "id": "fYlHtEJHqTZn",
        "colab_type": "code",
        "colab": {}
      },
      "source": [
        "import csv\n",
        "f = open('age2007.csv', encoding = 'cp949')\n",
        "\n",
        "data = csv.reader(f)\n",
        "next(data)\n",
        "next(data)\n",
        "data = list(data)\n",
        "pivot = []\n",
        "\n",
        "name = input('궁금한 지역 이름을 입력해주세요 : ')\n",
        "\n",
        "for row in data :\n",
        "    if name in row[0] :\n",
        "        for i in range(3,len(row)) : \n",
        "            pivot.append(int(row[i])/int(row[2]))\n",
        "        break\n",
        "mn = 1\n",
        "\n",
        "for row in data :\n",
        "    s = 0\n",
        "    for i in range(3, len(row)) :\n",
        "        row[i] = int(row[i])/int(row[2])\n",
        "        tmp = (row[i] - pivot[i-3]) ** 2\n",
        "        s = s + tmp\n",
        "    if s < mn and (name not in row[0]) :\n",
        "        result = []\n",
        "        for i in range(3, len(row)) :\n",
        "            result.append(row[i])\n",
        "        mn = s            \n",
        "        result_name = row[0]\n",
        "            \n",
        "import matplotlib.pyplot as plt\n",
        "plt.figure(dpi = 300)\n",
        "plt.style.use('ggplot')\n",
        "plt.rc('font', family = 'NanumGothic')\n",
        "plt.plot(pivot, label = name)\n",
        "plt.plot(result, label = result_name)\n",
        "plt.legend()\n",
        "plt.show()"
      ],
      "execution_count": null,
      "outputs": []
    },
    {
      "cell_type": "code",
      "metadata": {
        "id": "pvYQHqWlquz2",
        "colab_type": "code",
        "colab": {}
      },
      "source": [
        ""
      ],
      "execution_count": null,
      "outputs": []
    }
  ]
}